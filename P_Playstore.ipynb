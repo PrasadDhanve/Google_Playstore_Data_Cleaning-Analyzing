{
 "cells": [
  {
   "cell_type": "code",
   "execution_count": 1,
   "id": "0cdc02af-19af-4bd1-8e49-3d7db631aadf",
   "metadata": {},
   "outputs": [],
   "source": [
    "import pandas as pd\n",
    "import numpy as np\n",
    "import seaborn as sns"
   ]
  },
  {
   "cell_type": "code",
   "execution_count": 2,
   "id": "39010969-d5ee-431d-b42b-ae13d3611966",
   "metadata": {},
   "outputs": [],
   "source": [
    "df = pd.read_csv('googleplaystore.csv')"
   ]
  },
  {
   "cell_type": "code",
   "execution_count": 3,
   "id": "4c91b7b7-c527-4fe6-949c-006651474ea9",
   "metadata": {},
   "outputs": [
    {
     "data": {
      "text/html": [
       "<div>\n",
       "<style scoped>\n",
       "    .dataframe tbody tr th:only-of-type {\n",
       "        vertical-align: middle;\n",
       "    }\n",
       "\n",
       "    .dataframe tbody tr th {\n",
       "        vertical-align: top;\n",
       "    }\n",
       "\n",
       "    .dataframe thead th {\n",
       "        text-align: right;\n",
       "    }\n",
       "</style>\n",
       "<table border=\"1\" class=\"dataframe\">\n",
       "  <thead>\n",
       "    <tr style=\"text-align: right;\">\n",
       "      <th></th>\n",
       "      <th>App</th>\n",
       "      <th>Category</th>\n",
       "      <th>Rating</th>\n",
       "      <th>Reviews</th>\n",
       "      <th>Size</th>\n",
       "      <th>Installs</th>\n",
       "      <th>Type</th>\n",
       "      <th>Price</th>\n",
       "      <th>Content Rating</th>\n",
       "      <th>Genres</th>\n",
       "      <th>Last Updated</th>\n",
       "      <th>Current Ver</th>\n",
       "      <th>Android Ver</th>\n",
       "    </tr>\n",
       "  </thead>\n",
       "  <tbody>\n",
       "    <tr>\n",
       "      <th>0</th>\n",
       "      <td>Photo Editor &amp; Candy Camera &amp; Grid &amp; ScrapBook</td>\n",
       "      <td>ART_AND_DESIGN</td>\n",
       "      <td>4.1</td>\n",
       "      <td>159</td>\n",
       "      <td>19M</td>\n",
       "      <td>10,000+</td>\n",
       "      <td>Free</td>\n",
       "      <td>0</td>\n",
       "      <td>Everyone</td>\n",
       "      <td>Art &amp; Design</td>\n",
       "      <td>January 7, 2018</td>\n",
       "      <td>1.0.0</td>\n",
       "      <td>4.0.3 and up</td>\n",
       "    </tr>\n",
       "    <tr>\n",
       "      <th>1</th>\n",
       "      <td>Coloring book moana</td>\n",
       "      <td>ART_AND_DESIGN</td>\n",
       "      <td>3.9</td>\n",
       "      <td>967</td>\n",
       "      <td>14M</td>\n",
       "      <td>500,000+</td>\n",
       "      <td>Free</td>\n",
       "      <td>0</td>\n",
       "      <td>Everyone</td>\n",
       "      <td>Art &amp; Design;Pretend Play</td>\n",
       "      <td>January 15, 2018</td>\n",
       "      <td>2.0.0</td>\n",
       "      <td>4.0.3 and up</td>\n",
       "    </tr>\n",
       "    <tr>\n",
       "      <th>2</th>\n",
       "      <td>U Launcher Lite – FREE Live Cool Themes, Hide ...</td>\n",
       "      <td>ART_AND_DESIGN</td>\n",
       "      <td>4.7</td>\n",
       "      <td>87510</td>\n",
       "      <td>8.7M</td>\n",
       "      <td>5,000,000+</td>\n",
       "      <td>Free</td>\n",
       "      <td>0</td>\n",
       "      <td>Everyone</td>\n",
       "      <td>Art &amp; Design</td>\n",
       "      <td>August 1, 2018</td>\n",
       "      <td>1.2.4</td>\n",
       "      <td>4.0.3 and up</td>\n",
       "    </tr>\n",
       "    <tr>\n",
       "      <th>3</th>\n",
       "      <td>Sketch - Draw &amp; Paint</td>\n",
       "      <td>ART_AND_DESIGN</td>\n",
       "      <td>4.5</td>\n",
       "      <td>215644</td>\n",
       "      <td>25M</td>\n",
       "      <td>50,000,000+</td>\n",
       "      <td>Free</td>\n",
       "      <td>0</td>\n",
       "      <td>Teen</td>\n",
       "      <td>Art &amp; Design</td>\n",
       "      <td>June 8, 2018</td>\n",
       "      <td>Varies with device</td>\n",
       "      <td>4.2 and up</td>\n",
       "    </tr>\n",
       "    <tr>\n",
       "      <th>4</th>\n",
       "      <td>Pixel Draw - Number Art Coloring Book</td>\n",
       "      <td>ART_AND_DESIGN</td>\n",
       "      <td>4.3</td>\n",
       "      <td>967</td>\n",
       "      <td>2.8M</td>\n",
       "      <td>100,000+</td>\n",
       "      <td>Free</td>\n",
       "      <td>0</td>\n",
       "      <td>Everyone</td>\n",
       "      <td>Art &amp; Design;Creativity</td>\n",
       "      <td>June 20, 2018</td>\n",
       "      <td>1.1</td>\n",
       "      <td>4.4 and up</td>\n",
       "    </tr>\n",
       "  </tbody>\n",
       "</table>\n",
       "</div>"
      ],
      "text/plain": [
       "                                                 App        Category  Rating  \\\n",
       "0     Photo Editor & Candy Camera & Grid & ScrapBook  ART_AND_DESIGN     4.1   \n",
       "1                                Coloring book moana  ART_AND_DESIGN     3.9   \n",
       "2  U Launcher Lite – FREE Live Cool Themes, Hide ...  ART_AND_DESIGN     4.7   \n",
       "3                              Sketch - Draw & Paint  ART_AND_DESIGN     4.5   \n",
       "4              Pixel Draw - Number Art Coloring Book  ART_AND_DESIGN     4.3   \n",
       "\n",
       "  Reviews  Size     Installs  Type Price Content Rating  \\\n",
       "0     159   19M      10,000+  Free     0       Everyone   \n",
       "1     967   14M     500,000+  Free     0       Everyone   \n",
       "2   87510  8.7M   5,000,000+  Free     0       Everyone   \n",
       "3  215644   25M  50,000,000+  Free     0           Teen   \n",
       "4     967  2.8M     100,000+  Free     0       Everyone   \n",
       "\n",
       "                      Genres      Last Updated         Current Ver  \\\n",
       "0               Art & Design   January 7, 2018               1.0.0   \n",
       "1  Art & Design;Pretend Play  January 15, 2018               2.0.0   \n",
       "2               Art & Design    August 1, 2018               1.2.4   \n",
       "3               Art & Design      June 8, 2018  Varies with device   \n",
       "4    Art & Design;Creativity     June 20, 2018                 1.1   \n",
       "\n",
       "    Android Ver  \n",
       "0  4.0.3 and up  \n",
       "1  4.0.3 and up  \n",
       "2  4.0.3 and up  \n",
       "3    4.2 and up  \n",
       "4    4.4 and up  "
      ]
     },
     "execution_count": 3,
     "metadata": {},
     "output_type": "execute_result"
    }
   ],
   "source": [
    "df.head()"
   ]
  },
  {
   "cell_type": "code",
   "execution_count": 4,
   "id": "af1b90a5-4a9b-46af-81f3-e99de1ae89c8",
   "metadata": {},
   "outputs": [],
   "source": [
    "df_raw = df.copy()"
   ]
  },
  {
   "cell_type": "code",
   "execution_count": 5,
   "id": "ca739f7e-0be9-4ffe-994d-e3e0404e5768",
   "metadata": {},
   "outputs": [
    {
     "name": "stdout",
     "output_type": "stream",
     "text": [
      "<class 'pandas.core.frame.DataFrame'>\n",
      "RangeIndex: 10841 entries, 0 to 10840\n",
      "Data columns (total 13 columns):\n",
      " #   Column          Non-Null Count  Dtype  \n",
      "---  ------          --------------  -----  \n",
      " 0   App             10841 non-null  object \n",
      " 1   Category        10841 non-null  object \n",
      " 2   Rating          9367 non-null   float64\n",
      " 3   Reviews         10841 non-null  object \n",
      " 4   Size            10841 non-null  object \n",
      " 5   Installs        10841 non-null  object \n",
      " 6   Type            10840 non-null  object \n",
      " 7   Price           10841 non-null  object \n",
      " 8   Content Rating  10840 non-null  object \n",
      " 9   Genres          10841 non-null  object \n",
      " 10  Last Updated    10841 non-null  object \n",
      " 11  Current Ver     10833 non-null  object \n",
      " 12  Android Ver     10838 non-null  object \n",
      "dtypes: float64(1), object(12)\n",
      "memory usage: 1.1+ MB\n"
     ]
    }
   ],
   "source": [
    "df_raw.info()"
   ]
  },
  {
   "cell_type": "markdown",
   "id": "7d6f0bf5-7c6e-4b84-bf2b-c9d53520e746",
   "metadata": {},
   "source": [
    "## Finding which of the above column(s) has/have null values?"
   ]
  },
  {
   "cell_type": "code",
   "execution_count": 6,
   "id": "6113b835-7d9f-4be3-88b1-0be48d028a17",
   "metadata": {},
   "outputs": [
    {
     "data": {
      "text/plain": [
       "Rating            1474\n",
       "Current Ver          8\n",
       "Android Ver          3\n",
       "Type                 1\n",
       "Content Rating       1\n",
       "App                  0\n",
       "Category             0\n",
       "Reviews              0\n",
       "Size                 0\n",
       "Installs             0\n",
       "Price                0\n",
       "Genres               0\n",
       "Last Updated         0\n",
       "dtype: int64"
      ]
     },
     "execution_count": 6,
     "metadata": {},
     "output_type": "execute_result"
    }
   ],
   "source": [
    "df_raw.isna().sum().sort_values(ascending = False)"
   ]
  },
  {
   "cell_type": "markdown",
   "id": "b4a158a1-a59c-4bff-99f1-b8b3f96bbd7f",
   "metadata": {},
   "source": [
    "#### Ans: Rating, Current Ver, Android Ver, Type, Content Rating"
   ]
  },
  {
   "cell_type": "markdown",
   "id": "ba383a4d-8b37-4461-b936-5d564da2f36d",
   "metadata": {},
   "source": [
    "## Cleaning the Rating column and the other columns containing null values"
   ]
  },
  {
   "cell_type": "markdown",
   "id": "6f9c29a4-47f0-4fad-a231-8ef25ed8a02e",
   "metadata": {},
   "source": [
    "- Remove the invalid values from Rating (if any). Just set them as NaN. <br>\n",
    "- Fill the null values in the Rating column using the mean()<br>\n",
    "- Clean any other non-numerical columns by just dropping the values.<br>"
   ]
  },
  {
   "cell_type": "markdown",
   "id": "1f9986bc-015a-4694-8a6a-24fdb3908753",
   "metadata": {},
   "source": [
    "#### Remove the invalid values from Rating (if any). Just set them as NaN."
   ]
  },
  {
   "cell_type": "code",
   "execution_count": 7,
   "id": "c6754fd7-ee2e-42be-b7ae-62c31416712c",
   "metadata": {},
   "outputs": [
    {
     "data": {
      "text/plain": [
       "<Axes: >"
      ]
     },
     "execution_count": 7,
     "metadata": {},
     "output_type": "execute_result"
    },
    {
     "data": {
      "image/png": "[encoded data removed]",
      "text/plain": [
       "<Figure size 1500x100 with 1 Axes>"
      ]
     },
     "metadata": {},
     "output_type": "display_data"
    }
   ],
   "source": [
    "df['Rating'].plot(kind = 'box', vert = False, figsize=(15, 1))"
   ]
  },
  {
   "cell_type": "code",
   "execution_count": 8,
   "id": "0e42ff58-7b0b-42a3-af01-7a706c491bde",
   "metadata": {},
   "outputs": [
    {
     "data": {
      "text/html": [
       "<div>\n",
       "<style scoped>\n",
       "    .dataframe tbody tr th:only-of-type {\n",
       "        vertical-align: middle;\n",
       "    }\n",
       "\n",
       "    .dataframe tbody tr th {\n",
       "        vertical-align: top;\n",
       "    }\n",
       "\n",
       "    .dataframe thead th {\n",
       "        text-align: right;\n",
       "    }\n",
       "</style>\n",
       "<table border=\"1\" class=\"dataframe\">\n",
       "  <thead>\n",
       "    <tr style=\"text-align: right;\">\n",
       "      <th></th>\n",
       "      <th>App</th>\n",
       "      <th>Category</th>\n",
       "      <th>Rating</th>\n",
       "      <th>Reviews</th>\n",
       "      <th>Size</th>\n",
       "      <th>Installs</th>\n",
       "      <th>Type</th>\n",
       "      <th>Price</th>\n",
       "      <th>Content Rating</th>\n",
       "      <th>Genres</th>\n",
       "      <th>Last Updated</th>\n",
       "      <th>Current Ver</th>\n",
       "      <th>Android Ver</th>\n",
       "    </tr>\n",
       "  </thead>\n",
       "  <tbody>\n",
       "    <tr>\n",
       "      <th>10472</th>\n",
       "      <td>Life Made WI-Fi Touchscreen Photo Frame</td>\n",
       "      <td>1.9</td>\n",
       "      <td>19.0</td>\n",
       "      <td>3.0M</td>\n",
       "      <td>1,000+</td>\n",
       "      <td>Free</td>\n",
       "      <td>0</td>\n",
       "      <td>Everyone</td>\n",
       "      <td>NaN</td>\n",
       "      <td>February 11, 2018</td>\n",
       "      <td>1.0.19</td>\n",
       "      <td>4.0 and up</td>\n",
       "      <td>NaN</td>\n",
       "    </tr>\n",
       "  </tbody>\n",
       "</table>\n",
       "</div>"
      ],
      "text/plain": [
       "                                           App Category  Rating Reviews  \\\n",
       "10472  Life Made WI-Fi Touchscreen Photo Frame      1.9    19.0    3.0M   \n",
       "\n",
       "         Size Installs Type     Price Content Rating             Genres  \\\n",
       "10472  1,000+     Free    0  Everyone            NaN  February 11, 2018   \n",
       "\n",
       "      Last Updated Current Ver Android Ver  \n",
       "10472       1.0.19  4.0 and up         NaN  "
      ]
     },
     "execution_count": 8,
     "metadata": {},
     "output_type": "execute_result"
    }
   ],
   "source": [
    "df.loc[df['Rating'] > 5]"
   ]
  },
  {
   "cell_type": "code",
   "execution_count": 9,
   "id": "db9e0277-922c-47c8-8205-06bec2961cf6",
   "metadata": {},
   "outputs": [],
   "source": [
    "df.loc[df['Rating'] > 5, 'Rating'] = np.nan"
   ]
  },
  {
   "cell_type": "code",
   "execution_count": 10,
   "id": "f1ea80cd-17cc-414f-b26d-4d9ee484b120",
   "metadata": {},
   "outputs": [
    {
     "data": {
      "text/plain": [
       "<Axes: >"
      ]
     },
     "execution_count": 10,
     "metadata": {},
     "output_type": "execute_result"
    },
    {
     "data": {
      "image/png": "[encoded data removed]",
      "text/plain": [
       "<Figure size 1500x100 with 1 Axes>"
      ]
     },
     "metadata": {},
     "output_type": "display_data"
    }
   ],
   "source": [
    "df['Rating'].plot(kind = 'box', vert = False, figsize=(15, 1))"
   ]
  },
  {
   "cell_type": "markdown",
   "id": "548c9a34-0f14-4b1a-a84f-b878f4992699",
   "metadata": {},
   "source": [
    "#### Fill the null values in the Rating column using the mean()"
   ]
  },
  {
   "cell_type": "code",
   "execution_count": 11,
   "id": "e436bee5-9a1b-4d71-a254-89d6c5093ff7",
   "metadata": {},
   "outputs": [
    {
     "data": {
      "text/plain": [
       "4.191757420456972"
      ]
     },
     "execution_count": 11,
     "metadata": {},
     "output_type": "execute_result"
    }
   ],
   "source": [
    "df['Rating'].mean()"
   ]
  },
  {
   "cell_type": "code",
   "execution_count": 12,
   "id": "346d5f92-0ea7-4b53-8110-bfb245c5979f",
   "metadata": {},
   "outputs": [],
   "source": [
    "df['Rating'].fillna(df['Rating'].mean(), inplace=True)"
   ]
  },
  {
   "cell_type": "code",
   "execution_count": 13,
   "id": "1015b903-cf38-4223-8c21-0a9efa91a583",
   "metadata": {},
   "outputs": [
    {
     "data": {
      "text/plain": [
       "0"
      ]
     },
     "execution_count": 13,
     "metadata": {},
     "output_type": "execute_result"
    }
   ],
   "source": [
    "df['Rating'].isna().sum()"
   ]
  },
  {
   "cell_type": "markdown",
   "id": "ee2ec2bf-8e9c-4dfd-bf04-f1dc5928ce5e",
   "metadata": {},
   "source": [
    "#### Clean any other non-numerical columns by just dropping the values."
   ]
  },
  {
   "cell_type": "code",
   "execution_count": 14,
   "id": "b52b6023-801b-46e9-abcf-de99236e1282",
   "metadata": {},
   "outputs": [],
   "source": [
    "df.dropna(inplace=True)"
   ]
  },
  {
   "cell_type": "code",
   "execution_count": 15,
   "id": "97dd7936-83bf-492f-80e0-20322fb3b8b3",
   "metadata": {},
   "outputs": [
    {
     "data": {
      "text/plain": [
       "(10829, 13)"
      ]
     },
     "execution_count": 15,
     "metadata": {},
     "output_type": "execute_result"
    }
   ],
   "source": [
    "df.shape"
   ]
  },
  {
   "cell_type": "code",
   "execution_count": 16,
   "id": "920157f7-a898-4ebc-b688-b890f6d32284",
   "metadata": {},
   "outputs": [
    {
     "data": {
      "text/plain": [
       "12"
      ]
     },
     "execution_count": 16,
     "metadata": {},
     "output_type": "execute_result"
    }
   ],
   "source": [
    "(df_raw.shape[0]) - (df.shape[0])"
   ]
  },
  {
   "cell_type": "markdown",
   "id": "4f928a0d-eb5e-4685-9163-b8ea50407c40",
   "metadata": {},
   "source": [
    "#### Ans: 12 rows dropped"
   ]
  },
  {
   "cell_type": "markdown",
   "id": "baf8f1dd-5162-4d0e-a5a3-bfc0b36fff09",
   "metadata": {},
   "source": [
    "## Cleaning the column Reviews and make it numeric"
   ]
  },
  {
   "cell_type": "code",
   "execution_count": 17,
   "id": "3d475138-fc7b-4636-8eea-15334faa4bbe",
   "metadata": {},
   "outputs": [
    {
     "name": "stdout",
     "output_type": "stream",
     "text": [
      "<class 'pandas.core.series.Series'>\n",
      "RangeIndex: 10841 entries, 0 to 10840\n",
      "Series name: Reviews\n",
      "Non-Null Count  Dtype \n",
      "--------------  ----- \n",
      "10841 non-null  object\n",
      "dtypes: object(1)\n",
      "memory usage: 84.8+ KB\n"
     ]
    }
   ],
   "source": [
    "df_raw['Reviews'].info()"
   ]
  },
  {
   "cell_type": "code",
   "execution_count": 18,
   "id": "0bd554b0-17a0-4cfd-8d3f-55df46197d57",
   "metadata": {},
   "outputs": [
    {
     "data": {
      "text/html": [
       "<div>\n",
       "<style scoped>\n",
       "    .dataframe tbody tr th:only-of-type {\n",
       "        vertical-align: middle;\n",
       "    }\n",
       "\n",
       "    .dataframe tbody tr th {\n",
       "        vertical-align: top;\n",
       "    }\n",
       "\n",
       "    .dataframe thead th {\n",
       "        text-align: right;\n",
       "    }\n",
       "</style>\n",
       "<table border=\"1\" class=\"dataframe\">\n",
       "  <thead>\n",
       "    <tr style=\"text-align: right;\">\n",
       "      <th></th>\n",
       "      <th>App</th>\n",
       "      <th>Category</th>\n",
       "      <th>Rating</th>\n",
       "      <th>Reviews</th>\n",
       "      <th>Size</th>\n",
       "      <th>Installs</th>\n",
       "      <th>Type</th>\n",
       "      <th>Price</th>\n",
       "      <th>Content Rating</th>\n",
       "      <th>Genres</th>\n",
       "      <th>Last Updated</th>\n",
       "      <th>Current Ver</th>\n",
       "      <th>Android Ver</th>\n",
       "    </tr>\n",
       "  </thead>\n",
       "  <tbody>\n",
       "    <tr>\n",
       "      <th>10472</th>\n",
       "      <td>Life Made WI-Fi Touchscreen Photo Frame</td>\n",
       "      <td>1.9</td>\n",
       "      <td>19.0</td>\n",
       "      <td>3.0M</td>\n",
       "      <td>1,000+</td>\n",
       "      <td>Free</td>\n",
       "      <td>0</td>\n",
       "      <td>Everyone</td>\n",
       "      <td>NaN</td>\n",
       "      <td>February 11, 2018</td>\n",
       "      <td>1.0.19</td>\n",
       "      <td>4.0 and up</td>\n",
       "      <td>NaN</td>\n",
       "    </tr>\n",
       "  </tbody>\n",
       "</table>\n",
       "</div>"
      ],
      "text/plain": [
       "                                           App Category  Rating Reviews  \\\n",
       "10472  Life Made WI-Fi Touchscreen Photo Frame      1.9    19.0    3.0M   \n",
       "\n",
       "         Size Installs Type     Price Content Rating             Genres  \\\n",
       "10472  1,000+     Free    0  Everyone            NaN  February 11, 2018   \n",
       "\n",
       "      Last Updated Current Ver Android Ver  \n",
       "10472       1.0.19  4.0 and up         NaN  "
      ]
     },
     "execution_count": 18,
     "metadata": {},
     "output_type": "execute_result"
    }
   ],
   "source": [
    "df_raw[df_raw['Reviews'].astype(str).str.contains('[a-zA-Z]')]"
   ]
  },
  {
   "cell_type": "code",
   "execution_count": 19,
   "id": "a43f98c3-77a8-45bb-9d54-9600f90e27eb",
   "metadata": {},
   "outputs": [
    {
     "data": {
      "text/plain": [
       "False"
      ]
     },
     "execution_count": 19,
     "metadata": {},
     "output_type": "execute_result"
    }
   ],
   "source": [
    "df['Reviews'].str.contains(\"M\").any()"
   ]
  },
  {
   "cell_type": "markdown",
   "id": "ed72bced-9c9f-4f92-91b9-049725c8b3d3",
   "metadata": {},
   "source": [
    "#### Row 10472 got dropped because of null values in 'Content Rating' and 'Android Ver'\n",
    "#### No other String left in 'Reviews'. Can be converted to numeric"
   ]
  },
  {
   "cell_type": "code",
   "execution_count": 20,
   "id": "fca80689-bb20-4685-9904-115852e09899",
   "metadata": {},
   "outputs": [],
   "source": [
    "df['Reviews'] = pd.to_numeric(df['Reviews'])"
   ]
  },
  {
   "cell_type": "code",
   "execution_count": 21,
   "id": "bd081479-637e-4d51-89bf-ee41b0fa2303",
   "metadata": {},
   "outputs": [
    {
     "name": "stdout",
     "output_type": "stream",
     "text": [
      "<class 'pandas.core.series.Series'>\n",
      "Index: 10829 entries, 0 to 10840\n",
      "Series name: Reviews\n",
      "Non-Null Count  Dtype\n",
      "--------------  -----\n",
      "10829 non-null  int64\n",
      "dtypes: int64(1)\n",
      "memory usage: 169.2 KB\n"
     ]
    }
   ],
   "source": [
    "df['Reviews'].info()"
   ]
  },
  {
   "cell_type": "markdown",
   "id": "f508a57f-dd55-48c2-b566-2c75cebdb2d8",
   "metadata": {},
   "source": [
    "## How many duplicated apps are there?"
   ]
  },
  {
   "cell_type": "code",
   "execution_count": 22,
   "id": "6ea22108-eecf-4171-91ea-30c4406b5719",
   "metadata": {},
   "outputs": [
    {
     "data": {
      "text/html": [
       "<div>\n",
       "<style scoped>\n",
       "    .dataframe tbody tr th:only-of-type {\n",
       "        vertical-align: middle;\n",
       "    }\n",
       "\n",
       "    .dataframe tbody tr th {\n",
       "        vertical-align: top;\n",
       "    }\n",
       "\n",
       "    .dataframe thead th {\n",
       "        text-align: right;\n",
       "    }\n",
       "</style>\n",
       "<table border=\"1\" class=\"dataframe\">\n",
       "  <thead>\n",
       "    <tr style=\"text-align: right;\">\n",
       "      <th></th>\n",
       "      <th>App</th>\n",
       "      <th>Category</th>\n",
       "      <th>Rating</th>\n",
       "      <th>Reviews</th>\n",
       "      <th>Size</th>\n",
       "      <th>Installs</th>\n",
       "      <th>Type</th>\n",
       "      <th>Price</th>\n",
       "      <th>Content Rating</th>\n",
       "      <th>Genres</th>\n",
       "      <th>Last Updated</th>\n",
       "      <th>Current Ver</th>\n",
       "      <th>Android Ver</th>\n",
       "    </tr>\n",
       "  </thead>\n",
       "  <tbody>\n",
       "    <tr>\n",
       "      <th>1393</th>\n",
       "      <td>10 Best Foods for You</td>\n",
       "      <td>HEALTH_AND_FITNESS</td>\n",
       "      <td>4.0</td>\n",
       "      <td>2490</td>\n",
       "      <td>3.8M</td>\n",
       "      <td>500,000+</td>\n",
       "      <td>Free</td>\n",
       "      <td>0</td>\n",
       "      <td>Everyone 10+</td>\n",
       "      <td>Health &amp; Fitness</td>\n",
       "      <td>February 17, 2017</td>\n",
       "      <td>1.9</td>\n",
       "      <td>2.3.3 and up</td>\n",
       "    </tr>\n",
       "    <tr>\n",
       "      <th>1407</th>\n",
       "      <td>10 Best Foods for You</td>\n",
       "      <td>HEALTH_AND_FITNESS</td>\n",
       "      <td>4.0</td>\n",
       "      <td>2490</td>\n",
       "      <td>3.8M</td>\n",
       "      <td>500,000+</td>\n",
       "      <td>Free</td>\n",
       "      <td>0</td>\n",
       "      <td>Everyone 10+</td>\n",
       "      <td>Health &amp; Fitness</td>\n",
       "      <td>February 17, 2017</td>\n",
       "      <td>1.9</td>\n",
       "      <td>2.3.3 and up</td>\n",
       "    </tr>\n",
       "    <tr>\n",
       "      <th>2543</th>\n",
       "      <td>1800 Contacts - Lens Store</td>\n",
       "      <td>MEDICAL</td>\n",
       "      <td>4.7</td>\n",
       "      <td>23160</td>\n",
       "      <td>26M</td>\n",
       "      <td>1,000,000+</td>\n",
       "      <td>Free</td>\n",
       "      <td>0</td>\n",
       "      <td>Everyone</td>\n",
       "      <td>Medical</td>\n",
       "      <td>July 27, 2018</td>\n",
       "      <td>7.4.1</td>\n",
       "      <td>5.0 and up</td>\n",
       "    </tr>\n",
       "    <tr>\n",
       "      <th>2322</th>\n",
       "      <td>1800 Contacts - Lens Store</td>\n",
       "      <td>MEDICAL</td>\n",
       "      <td>4.7</td>\n",
       "      <td>23160</td>\n",
       "      <td>26M</td>\n",
       "      <td>1,000,000+</td>\n",
       "      <td>Free</td>\n",
       "      <td>0</td>\n",
       "      <td>Everyone</td>\n",
       "      <td>Medical</td>\n",
       "      <td>July 27, 2018</td>\n",
       "      <td>7.4.1</td>\n",
       "      <td>5.0 and up</td>\n",
       "    </tr>\n",
       "    <tr>\n",
       "      <th>2385</th>\n",
       "      <td>2017 EMRA Antibiotic Guide</td>\n",
       "      <td>MEDICAL</td>\n",
       "      <td>4.4</td>\n",
       "      <td>12</td>\n",
       "      <td>3.8M</td>\n",
       "      <td>1,000+</td>\n",
       "      <td>Paid</td>\n",
       "      <td>$16.99</td>\n",
       "      <td>Everyone</td>\n",
       "      <td>Medical</td>\n",
       "      <td>January 27, 2017</td>\n",
       "      <td>1.0.5</td>\n",
       "      <td>4.0.3 and up</td>\n",
       "    </tr>\n",
       "    <tr>\n",
       "      <th>...</th>\n",
       "      <td>...</td>\n",
       "      <td>...</td>\n",
       "      <td>...</td>\n",
       "      <td>...</td>\n",
       "      <td>...</td>\n",
       "      <td>...</td>\n",
       "      <td>...</td>\n",
       "      <td>...</td>\n",
       "      <td>...</td>\n",
       "      <td>...</td>\n",
       "      <td>...</td>\n",
       "      <td>...</td>\n",
       "      <td>...</td>\n",
       "    </tr>\n",
       "    <tr>\n",
       "      <th>3202</th>\n",
       "      <td>trivago: Hotels &amp; Travel</td>\n",
       "      <td>TRAVEL_AND_LOCAL</td>\n",
       "      <td>4.2</td>\n",
       "      <td>219848</td>\n",
       "      <td>Varies with device</td>\n",
       "      <td>50,000,000+</td>\n",
       "      <td>Free</td>\n",
       "      <td>0</td>\n",
       "      <td>Everyone</td>\n",
       "      <td>Travel &amp; Local</td>\n",
       "      <td>August 2, 2018</td>\n",
       "      <td>Varies with device</td>\n",
       "      <td>Varies with device</td>\n",
       "    </tr>\n",
       "    <tr>\n",
       "      <th>3118</th>\n",
       "      <td>trivago: Hotels &amp; Travel</td>\n",
       "      <td>TRAVEL_AND_LOCAL</td>\n",
       "      <td>4.2</td>\n",
       "      <td>219848</td>\n",
       "      <td>Varies with device</td>\n",
       "      <td>50,000,000+</td>\n",
       "      <td>Free</td>\n",
       "      <td>0</td>\n",
       "      <td>Everyone</td>\n",
       "      <td>Travel &amp; Local</td>\n",
       "      <td>August 2, 2018</td>\n",
       "      <td>Varies with device</td>\n",
       "      <td>Varies with device</td>\n",
       "    </tr>\n",
       "    <tr>\n",
       "      <th>3103</th>\n",
       "      <td>trivago: Hotels &amp; Travel</td>\n",
       "      <td>TRAVEL_AND_LOCAL</td>\n",
       "      <td>4.2</td>\n",
       "      <td>219848</td>\n",
       "      <td>Varies with device</td>\n",
       "      <td>50,000,000+</td>\n",
       "      <td>Free</td>\n",
       "      <td>0</td>\n",
       "      <td>Everyone</td>\n",
       "      <td>Travel &amp; Local</td>\n",
       "      <td>August 2, 2018</td>\n",
       "      <td>Varies with device</td>\n",
       "      <td>Varies with device</td>\n",
       "    </tr>\n",
       "    <tr>\n",
       "      <th>8291</th>\n",
       "      <td>wetter.com - Weather and Radar</td>\n",
       "      <td>WEATHER</td>\n",
       "      <td>4.2</td>\n",
       "      <td>189310</td>\n",
       "      <td>38M</td>\n",
       "      <td>10,000,000+</td>\n",
       "      <td>Free</td>\n",
       "      <td>0</td>\n",
       "      <td>Everyone</td>\n",
       "      <td>Weather</td>\n",
       "      <td>August 6, 2018</td>\n",
       "      <td>Varies with device</td>\n",
       "      <td>Varies with device</td>\n",
       "    </tr>\n",
       "    <tr>\n",
       "      <th>3652</th>\n",
       "      <td>wetter.com - Weather and Radar</td>\n",
       "      <td>WEATHER</td>\n",
       "      <td>4.2</td>\n",
       "      <td>189313</td>\n",
       "      <td>38M</td>\n",
       "      <td>10,000,000+</td>\n",
       "      <td>Free</td>\n",
       "      <td>0</td>\n",
       "      <td>Everyone</td>\n",
       "      <td>Weather</td>\n",
       "      <td>August 6, 2018</td>\n",
       "      <td>Varies with device</td>\n",
       "      <td>Varies with device</td>\n",
       "    </tr>\n",
       "  </tbody>\n",
       "</table>\n",
       "<p>1979 rows × 13 columns</p>\n",
       "</div>"
      ],
      "text/plain": [
       "                                 App            Category  Rating  Reviews  \\\n",
       "1393           10 Best Foods for You  HEALTH_AND_FITNESS     4.0     2490   \n",
       "1407           10 Best Foods for You  HEALTH_AND_FITNESS     4.0     2490   \n",
       "2543      1800 Contacts - Lens Store             MEDICAL     4.7    23160   \n",
       "2322      1800 Contacts - Lens Store             MEDICAL     4.7    23160   \n",
       "2385      2017 EMRA Antibiotic Guide             MEDICAL     4.4       12   \n",
       "...                              ...                 ...     ...      ...   \n",
       "3202        trivago: Hotels & Travel    TRAVEL_AND_LOCAL     4.2   219848   \n",
       "3118        trivago: Hotels & Travel    TRAVEL_AND_LOCAL     4.2   219848   \n",
       "3103        trivago: Hotels & Travel    TRAVEL_AND_LOCAL     4.2   219848   \n",
       "8291  wetter.com - Weather and Radar             WEATHER     4.2   189310   \n",
       "3652  wetter.com - Weather and Radar             WEATHER     4.2   189313   \n",
       "\n",
       "                    Size     Installs  Type   Price Content Rating  \\\n",
       "1393                3.8M     500,000+  Free       0   Everyone 10+   \n",
       "1407                3.8M     500,000+  Free       0   Everyone 10+   \n",
       "2543                 26M   1,000,000+  Free       0       Everyone   \n",
       "2322                 26M   1,000,000+  Free       0       Everyone   \n",
       "2385                3.8M       1,000+  Paid  $16.99       Everyone   \n",
       "...                  ...          ...   ...     ...            ...   \n",
       "3202  Varies with device  50,000,000+  Free       0       Everyone   \n",
       "3118  Varies with device  50,000,000+  Free       0       Everyone   \n",
       "3103  Varies with device  50,000,000+  Free       0       Everyone   \n",
       "8291                 38M  10,000,000+  Free       0       Everyone   \n",
       "3652                 38M  10,000,000+  Free       0       Everyone   \n",
       "\n",
       "                Genres       Last Updated         Current Ver  \\\n",
       "1393  Health & Fitness  February 17, 2017                 1.9   \n",
       "1407  Health & Fitness  February 17, 2017                 1.9   \n",
       "2543           Medical      July 27, 2018               7.4.1   \n",
       "2322           Medical      July 27, 2018               7.4.1   \n",
       "2385           Medical   January 27, 2017               1.0.5   \n",
       "...                ...                ...                 ...   \n",
       "3202    Travel & Local     August 2, 2018  Varies with device   \n",
       "3118    Travel & Local     August 2, 2018  Varies with device   \n",
       "3103    Travel & Local     August 2, 2018  Varies with device   \n",
       "8291           Weather     August 6, 2018  Varies with device   \n",
       "3652           Weather     August 6, 2018  Varies with device   \n",
       "\n",
       "             Android Ver  \n",
       "1393        2.3.3 and up  \n",
       "1407        2.3.3 and up  \n",
       "2543          5.0 and up  \n",
       "2322          5.0 and up  \n",
       "2385        4.0.3 and up  \n",
       "...                  ...  \n",
       "3202  Varies with device  \n",
       "3118  Varies with device  \n",
       "3103  Varies with device  \n",
       "8291  Varies with device  \n",
       "3652  Varies with device  \n",
       "\n",
       "[1979 rows x 13 columns]"
      ]
     },
     "execution_count": 22,
     "metadata": {},
     "output_type": "execute_result"
    }
   ],
   "source": [
    "df.loc[df.duplicated(subset = ['App'], keep = False)].sort_values(by = 'App')"
   ]
  },
  {
   "cell_type": "markdown",
   "id": "c1bdf9a9-5630-4438-875e-343ab3e8f704",
   "metadata": {},
   "source": [
    "#### Ans: 1979 duplicated Apps"
   ]
  },
  {
   "cell_type": "markdown",
   "id": "0bc4b687-f660-43a0-ae7e-bf42bbc2e9a7",
   "metadata": {},
   "source": [
    "## Droping duplicated apps keeping only the ones with the greatest number of reviews"
   ]
  },
  {
   "cell_type": "code",
   "execution_count": 23,
   "id": "959834f4-dfe3-4d21-b7df-f039f5237701",
   "metadata": {},
   "outputs": [],
   "source": [
    "df.sort_values(by = ['App','Reviews'], ascending = [True, False], inplace = True)"
   ]
  },
  {
   "cell_type": "code",
   "execution_count": 24,
   "id": "0aa2482e-eae0-4de7-a424-62e3c5f7ce10",
   "metadata": {},
   "outputs": [
    {
     "data": {
      "text/html": [
       "<div>\n",
       "<style scoped>\n",
       "    .dataframe tbody tr th:only-of-type {\n",
       "        vertical-align: middle;\n",
       "    }\n",
       "\n",
       "    .dataframe tbody tr th {\n",
       "        vertical-align: top;\n",
       "    }\n",
       "\n",
       "    .dataframe thead th {\n",
       "        text-align: right;\n",
       "    }\n",
       "</style>\n",
       "<table border=\"1\" class=\"dataframe\">\n",
       "  <thead>\n",
       "    <tr style=\"text-align: right;\">\n",
       "      <th></th>\n",
       "      <th>App</th>\n",
       "      <th>Category</th>\n",
       "      <th>Rating</th>\n",
       "      <th>Reviews</th>\n",
       "      <th>Size</th>\n",
       "      <th>Installs</th>\n",
       "      <th>Type</th>\n",
       "      <th>Price</th>\n",
       "      <th>Content Rating</th>\n",
       "      <th>Genres</th>\n",
       "      <th>Last Updated</th>\n",
       "      <th>Current Ver</th>\n",
       "      <th>Android Ver</th>\n",
       "    </tr>\n",
       "  </thead>\n",
       "  <tbody>\n",
       "    <tr>\n",
       "      <th>8884</th>\n",
       "      <td>\"i DT\" Fútbol. Todos Somos Técnicos.</td>\n",
       "      <td>SPORTS</td>\n",
       "      <td>4.191757</td>\n",
       "      <td>27</td>\n",
       "      <td>3.6M</td>\n",
       "      <td>500+</td>\n",
       "      <td>Free</td>\n",
       "      <td>0</td>\n",
       "      <td>Everyone</td>\n",
       "      <td>Sports</td>\n",
       "      <td>October 7, 2017</td>\n",
       "      <td>0.22</td>\n",
       "      <td>4.1 and up</td>\n",
       "    </tr>\n",
       "    <tr>\n",
       "      <th>8532</th>\n",
       "      <td>+Download 4 Instagram Twitter</td>\n",
       "      <td>SOCIAL</td>\n",
       "      <td>4.500000</td>\n",
       "      <td>40467</td>\n",
       "      <td>22M</td>\n",
       "      <td>1,000,000+</td>\n",
       "      <td>Free</td>\n",
       "      <td>0</td>\n",
       "      <td>Everyone</td>\n",
       "      <td>Social</td>\n",
       "      <td>August 2, 2018</td>\n",
       "      <td>5.03</td>\n",
       "      <td>4.1 and up</td>\n",
       "    </tr>\n",
       "    <tr>\n",
       "      <th>324</th>\n",
       "      <td>- Free Comics - Comic Apps</td>\n",
       "      <td>COMICS</td>\n",
       "      <td>3.500000</td>\n",
       "      <td>115</td>\n",
       "      <td>9.1M</td>\n",
       "      <td>10,000+</td>\n",
       "      <td>Free</td>\n",
       "      <td>0</td>\n",
       "      <td>Mature 17+</td>\n",
       "      <td>Comics</td>\n",
       "      <td>July 13, 2018</td>\n",
       "      <td>5.0.12</td>\n",
       "      <td>5.0 and up</td>\n",
       "    </tr>\n",
       "    <tr>\n",
       "      <th>4541</th>\n",
       "      <td>.R</td>\n",
       "      <td>TOOLS</td>\n",
       "      <td>4.500000</td>\n",
       "      <td>259</td>\n",
       "      <td>203k</td>\n",
       "      <td>10,000+</td>\n",
       "      <td>Free</td>\n",
       "      <td>0</td>\n",
       "      <td>Everyone</td>\n",
       "      <td>Tools</td>\n",
       "      <td>September 16, 2014</td>\n",
       "      <td>1.1.06</td>\n",
       "      <td>1.5 and up</td>\n",
       "    </tr>\n",
       "    <tr>\n",
       "      <th>4636</th>\n",
       "      <td>/u/app</td>\n",
       "      <td>COMMUNICATION</td>\n",
       "      <td>4.700000</td>\n",
       "      <td>573</td>\n",
       "      <td>53M</td>\n",
       "      <td>10,000+</td>\n",
       "      <td>Free</td>\n",
       "      <td>0</td>\n",
       "      <td>Mature 17+</td>\n",
       "      <td>Communication</td>\n",
       "      <td>July 3, 2018</td>\n",
       "      <td>4.2.4</td>\n",
       "      <td>4.1 and up</td>\n",
       "    </tr>\n",
       "    <tr>\n",
       "      <th>...</th>\n",
       "      <td>...</td>\n",
       "      <td>...</td>\n",
       "      <td>...</td>\n",
       "      <td>...</td>\n",
       "      <td>...</td>\n",
       "      <td>...</td>\n",
       "      <td>...</td>\n",
       "      <td>...</td>\n",
       "      <td>...</td>\n",
       "      <td>...</td>\n",
       "      <td>...</td>\n",
       "      <td>...</td>\n",
       "      <td>...</td>\n",
       "    </tr>\n",
       "    <tr>\n",
       "      <th>6334</th>\n",
       "      <td>뽕티비 - 개인방송, 인터넷방송, BJ방송</td>\n",
       "      <td>VIDEO_PLAYERS</td>\n",
       "      <td>4.191757</td>\n",
       "      <td>414</td>\n",
       "      <td>59M</td>\n",
       "      <td>100,000+</td>\n",
       "      <td>Free</td>\n",
       "      <td>0</td>\n",
       "      <td>Mature 17+</td>\n",
       "      <td>Video Players &amp; Editors</td>\n",
       "      <td>July 18, 2018</td>\n",
       "      <td>4.0.7</td>\n",
       "      <td>4.0.3 and up</td>\n",
       "    </tr>\n",
       "    <tr>\n",
       "      <th>4362</th>\n",
       "      <td>💎 I'm rich</td>\n",
       "      <td>LIFESTYLE</td>\n",
       "      <td>3.800000</td>\n",
       "      <td>718</td>\n",
       "      <td>26M</td>\n",
       "      <td>10,000+</td>\n",
       "      <td>Paid</td>\n",
       "      <td>$399.99</td>\n",
       "      <td>Everyone</td>\n",
       "      <td>Lifestyle</td>\n",
       "      <td>March 11, 2018</td>\n",
       "      <td>1.0.0</td>\n",
       "      <td>4.4 and up</td>\n",
       "    </tr>\n",
       "    <tr>\n",
       "      <th>2575</th>\n",
       "      <td>💘 WhatsLov: Smileys of love, stickers and GIF</td>\n",
       "      <td>SOCIAL</td>\n",
       "      <td>4.600000</td>\n",
       "      <td>22098</td>\n",
       "      <td>18M</td>\n",
       "      <td>1,000,000+</td>\n",
       "      <td>Free</td>\n",
       "      <td>0</td>\n",
       "      <td>Everyone</td>\n",
       "      <td>Social</td>\n",
       "      <td>July 24, 2018</td>\n",
       "      <td>4.2.4</td>\n",
       "      <td>4.0.3 and up</td>\n",
       "    </tr>\n",
       "    <tr>\n",
       "      <th>7559</th>\n",
       "      <td>📏 Smart Ruler ↔️ cm/inch measuring for homework!</td>\n",
       "      <td>TOOLS</td>\n",
       "      <td>4.000000</td>\n",
       "      <td>19</td>\n",
       "      <td>3.2M</td>\n",
       "      <td>10,000+</td>\n",
       "      <td>Free</td>\n",
       "      <td>0</td>\n",
       "      <td>Everyone</td>\n",
       "      <td>Tools</td>\n",
       "      <td>October 21, 2017</td>\n",
       "      <td>1.0</td>\n",
       "      <td>4.2 and up</td>\n",
       "    </tr>\n",
       "    <tr>\n",
       "      <th>882</th>\n",
       "      <td>🔥 Football Wallpapers 4K | Full HD Backgrounds 😍</td>\n",
       "      <td>ENTERTAINMENT</td>\n",
       "      <td>4.700000</td>\n",
       "      <td>11661</td>\n",
       "      <td>4.0M</td>\n",
       "      <td>1,000,000+</td>\n",
       "      <td>Free</td>\n",
       "      <td>0</td>\n",
       "      <td>Everyone</td>\n",
       "      <td>Entertainment</td>\n",
       "      <td>July 14, 2018</td>\n",
       "      <td>1.1.3.2</td>\n",
       "      <td>4.0.3 and up</td>\n",
       "    </tr>\n",
       "  </tbody>\n",
       "</table>\n",
       "<p>10829 rows × 13 columns</p>\n",
       "</div>"
      ],
      "text/plain": [
       "                                                   App       Category  \\\n",
       "8884              \"i DT\" Fútbol. Todos Somos Técnicos.         SPORTS   \n",
       "8532                     +Download 4 Instagram Twitter         SOCIAL   \n",
       "324                         - Free Comics - Comic Apps         COMICS   \n",
       "4541                                                .R          TOOLS   \n",
       "4636                                            /u/app  COMMUNICATION   \n",
       "...                                                ...            ...   \n",
       "6334                           뽕티비 - 개인방송, 인터넷방송, BJ방송  VIDEO_PLAYERS   \n",
       "4362                                        💎 I'm rich      LIFESTYLE   \n",
       "2575     💘 WhatsLov: Smileys of love, stickers and GIF         SOCIAL   \n",
       "7559  📏 Smart Ruler ↔️ cm/inch measuring for homework!          TOOLS   \n",
       "882   🔥 Football Wallpapers 4K | Full HD Backgrounds 😍  ENTERTAINMENT   \n",
       "\n",
       "        Rating  Reviews  Size    Installs  Type    Price Content Rating  \\\n",
       "8884  4.191757       27  3.6M        500+  Free        0       Everyone   \n",
       "8532  4.500000    40467   22M  1,000,000+  Free        0       Everyone   \n",
       "324   3.500000      115  9.1M     10,000+  Free        0     Mature 17+   \n",
       "4541  4.500000      259  203k     10,000+  Free        0       Everyone   \n",
       "4636  4.700000      573   53M     10,000+  Free        0     Mature 17+   \n",
       "...        ...      ...   ...         ...   ...      ...            ...   \n",
       "6334  4.191757      414   59M    100,000+  Free        0     Mature 17+   \n",
       "4362  3.800000      718   26M     10,000+  Paid  $399.99       Everyone   \n",
       "2575  4.600000    22098   18M  1,000,000+  Free        0       Everyone   \n",
       "7559  4.000000       19  3.2M     10,000+  Free        0       Everyone   \n",
       "882   4.700000    11661  4.0M  1,000,000+  Free        0       Everyone   \n",
       "\n",
       "                       Genres        Last Updated Current Ver   Android Ver  \n",
       "8884                   Sports     October 7, 2017        0.22    4.1 and up  \n",
       "8532                   Social      August 2, 2018        5.03    4.1 and up  \n",
       "324                    Comics       July 13, 2018      5.0.12    5.0 and up  \n",
       "4541                    Tools  September 16, 2014      1.1.06    1.5 and up  \n",
       "4636            Communication        July 3, 2018       4.2.4    4.1 and up  \n",
       "...                       ...                 ...         ...           ...  \n",
       "6334  Video Players & Editors       July 18, 2018       4.0.7  4.0.3 and up  \n",
       "4362                Lifestyle      March 11, 2018       1.0.0    4.4 and up  \n",
       "2575                   Social       July 24, 2018       4.2.4  4.0.3 and up  \n",
       "7559                    Tools    October 21, 2017         1.0    4.2 and up  \n",
       "882             Entertainment       July 14, 2018     1.1.3.2  4.0.3 and up  \n",
       "\n",
       "[10829 rows x 13 columns]"
      ]
     },
     "execution_count": 24,
     "metadata": {},
     "output_type": "execute_result"
    }
   ],
   "source": [
    "df"
   ]
  },
  {
   "cell_type": "code",
   "execution_count": 25,
   "id": "5a6c140b-05ae-419b-ba25-f5b017f2e6fd",
   "metadata": {},
   "outputs": [],
   "source": [
    "df.drop_duplicates(subset=['App'], keep='first', inplace = True)"
   ]
  },
  {
   "cell_type": "markdown",
   "id": "8798a0b7-5567-4474-9a3e-c44963337ccf",
   "metadata": {},
   "source": [
    "#### Ans: 1181 duplicated rows dropped"
   ]
  },
  {
   "cell_type": "markdown",
   "id": "d41e75c6-a858-4aa8-b221-c7df98908274",
   "metadata": {},
   "source": [
    "## Format the Category column"
   ]
  },
  {
   "cell_type": "markdown",
   "id": "96af09c6-a4d2-4c47-bb4c-d670b60d45e9",
   "metadata": {},
   "source": [
    "Categories are all uppercase and words are separated using underscores. Instead, we want them with capitalized in the first character and the underscores transformed as whitespaces.\n",
    "<br>\n",
    "Example, the category AUTO_AND_VEHICLES should be transformed to: Auto and vehicles. Also, if you find any other wrong value transform it into an Unknown category."
   ]
  },
  {
   "cell_type": "code",
   "execution_count": 26,
   "id": "503ac128-d885-4993-9b4c-f1130668fbe3",
   "metadata": {},
   "outputs": [
    {
     "data": {
      "text/plain": [
       "8884           SPORTS\n",
       "8532           SOCIAL\n",
       "324            COMICS\n",
       "4541            TOOLS\n",
       "4636    COMMUNICATION\n",
       "            ...      \n",
       "6334    VIDEO_PLAYERS\n",
       "4362        LIFESTYLE\n",
       "2575           SOCIAL\n",
       "7559            TOOLS\n",
       "882     ENTERTAINMENT\n",
       "Name: Category, Length: 9648, dtype: object"
      ]
     },
     "execution_count": 26,
     "metadata": {},
     "output_type": "execute_result"
    }
   ],
   "source": [
    "df['Category']"
   ]
  },
  {
   "cell_type": "code",
   "execution_count": 27,
   "id": "1424f9d1-4070-4fa3-a2b3-20e433d6323f",
   "metadata": {},
   "outputs": [],
   "source": [
    "df['Category'] = df['Category'].str.capitalize()"
   ]
  },
  {
   "cell_type": "code",
   "execution_count": 28,
   "id": "99b244e2-70a6-4134-a7e3-f8d822095034",
   "metadata": {},
   "outputs": [],
   "source": [
    "df['Category'] = df['Category'].str.replace('_',' ')"
   ]
  },
  {
   "cell_type": "code",
   "execution_count": 29,
   "id": "71ceacf7-a252-4f21-b7d1-d48a50c1162a",
   "metadata": {},
   "outputs": [
    {
     "data": {
      "text/plain": [
       "Category\n",
       "Family                 1870\n",
       "Game                    946\n",
       "Tools                   827\n",
       "Business                420\n",
       "Medical                 395\n",
       "Productivity            374\n",
       "Personalization         374\n",
       "Lifestyle               369\n",
       "Finance                 345\n",
       "Sports                  325\n",
       "Communication           315\n",
       "Health and fitness      288\n",
       "Photography             281\n",
       "News and magazines      254\n",
       "Social                  239\n",
       "Books and reference     221\n",
       "Travel and local        219\n",
       "Shopping                202\n",
       "Dating                  170\n",
       "Video players           164\n",
       "Maps and navigation     131\n",
       "Food and drink          112\n",
       "Education               107\n",
       "Entertainment            87\n",
       "Auto and vehicles        85\n",
       "Libraries and demo       83\n",
       "Weather                  79\n",
       "House and home           73\n",
       "Events                   64\n",
       "Art and design           60\n",
       "Parenting                60\n",
       "Comics                   56\n",
       "Beauty                   53\n",
       "Name: count, dtype: int64"
      ]
     },
     "execution_count": 29,
     "metadata": {},
     "output_type": "execute_result"
    }
   ],
   "source": [
    "df['Category'].value_counts()"
   ]
  },
  {
   "cell_type": "markdown",
   "id": "ad70293d-4850-4c3e-90e3-4a4bbe777feb",
   "metadata": {},
   "source": [
    "## Cleaning and converting the Installs column to numeric type"
   ]
  },
  {
   "cell_type": "code",
   "execution_count": 30,
   "id": "48dd60d4-5561-4774-82fb-d4289185019b",
   "metadata": {},
   "outputs": [],
   "source": [
    "df['Installs'] = df['Installs'].str.replace('+','').str.replace(',', '')"
   ]
  },
  {
   "cell_type": "code",
   "execution_count": 31,
   "id": "ed10325a-42a6-4cc4-9711-30857f1b1abe",
   "metadata": {},
   "outputs": [
    {
     "data": {
      "text/plain": [
       "8884        500\n",
       "8532    1000000\n",
       "324       10000\n",
       "4541      10000\n",
       "4636      10000\n",
       "         ...   \n",
       "6334     100000\n",
       "4362      10000\n",
       "2575    1000000\n",
       "7559      10000\n",
       "882     1000000\n",
       "Name: Installs, Length: 9648, dtype: object"
      ]
     },
     "execution_count": 31,
     "metadata": {},
     "output_type": "execute_result"
    }
   ],
   "source": [
    "df['Installs']"
   ]
  },
  {
   "cell_type": "code",
   "execution_count": 32,
   "id": "5b7cdd53-29b5-4025-ab19-1167ef3b47ad",
   "metadata": {},
   "outputs": [
    {
     "data": {
      "text/html": [
       "<div>\n",
       "<style scoped>\n",
       "    .dataframe tbody tr th:only-of-type {\n",
       "        vertical-align: middle;\n",
       "    }\n",
       "\n",
       "    .dataframe tbody tr th {\n",
       "        vertical-align: top;\n",
       "    }\n",
       "\n",
       "    .dataframe thead th {\n",
       "        text-align: right;\n",
       "    }\n",
       "</style>\n",
       "<table border=\"1\" class=\"dataframe\">\n",
       "  <thead>\n",
       "    <tr style=\"text-align: right;\">\n",
       "      <th></th>\n",
       "      <th>App</th>\n",
       "      <th>Category</th>\n",
       "      <th>Rating</th>\n",
       "      <th>Reviews</th>\n",
       "      <th>Size</th>\n",
       "      <th>Installs</th>\n",
       "      <th>Type</th>\n",
       "      <th>Price</th>\n",
       "      <th>Content Rating</th>\n",
       "      <th>Genres</th>\n",
       "      <th>Last Updated</th>\n",
       "      <th>Current Ver</th>\n",
       "      <th>Android Ver</th>\n",
       "    </tr>\n",
       "  </thead>\n",
       "  <tbody>\n",
       "  </tbody>\n",
       "</table>\n",
       "</div>"
      ],
      "text/plain": [
       "Empty DataFrame\n",
       "Columns: [App, Category, Rating, Reviews, Size, Installs, Type, Price, Content Rating, Genres, Last Updated, Current Ver, Android Ver]\n",
       "Index: []"
      ]
     },
     "execution_count": 32,
     "metadata": {},
     "output_type": "execute_result"
    }
   ],
   "source": [
    "df[df['Installs'].astype(str).str.contains('[a-zA-Z]')]"
   ]
  },
  {
   "cell_type": "code",
   "execution_count": 33,
   "id": "21733e99-cc1a-4e7b-a643-c1c790267e3b",
   "metadata": {},
   "outputs": [],
   "source": [
    "df['Installs'] = pd.to_numeric(df['Installs'])"
   ]
  },
  {
   "cell_type": "code",
   "execution_count": 34,
   "id": "eab71c40-aac9-4ae4-9760-45c7b20afe25",
   "metadata": {},
   "outputs": [
    {
     "name": "stdout",
     "output_type": "stream",
     "text": [
      "<class 'pandas.core.series.Series'>\n",
      "Index: 9648 entries, 8884 to 882\n",
      "Series name: Installs\n",
      "Non-Null Count  Dtype\n",
      "--------------  -----\n",
      "9648 non-null   int64\n",
      "dtypes: int64(1)\n",
      "memory usage: 150.8 KB\n"
     ]
    }
   ],
   "source": [
    "df['Installs'].info()"
   ]
  },
  {
   "cell_type": "markdown",
   "id": "59bd4ab7-237b-4da7-9056-7ad29911a5e8",
   "metadata": {},
   "source": [
    "#### Dtype changed to Integer"
   ]
  },
  {
   "cell_type": "markdown",
   "id": "7a4168c0-f496-47c6-baf2-925d4cb95a9c",
   "metadata": {},
   "source": [
    "## Cleaning and converting the Size column to numeric (representing bytes)"
   ]
  },
  {
   "cell_type": "markdown",
   "id": "bc3eb1ad-2855-4c1d-ac84-60531b5c2d1b",
   "metadata": {},
   "source": [
    "The Size column is of type object. Some values contain either a M or a k that indicate Kilobytes (1024 bytes) or Megabytes (1024 kb). These values should be transformed to their corresponding value in bytes. For example, 898k will become 919552 (898 * 1024).\n",
    "\n",
    "Some other values are completely invalid (there's no way to infer the numeric type from them). For these, just replace the value for 0.\n",
    "\n",
    "Some other rules are related to + modifiers, apply the same rules as the previous task."
   ]
  },
  {
   "cell_type": "code",
   "execution_count": 35,
   "id": "46101b94-e31e-48d0-b912-342e49e078c4",
   "metadata": {},
   "outputs": [],
   "source": [
    "df_copy_1 = df.copy()"
   ]
  },
  {
   "cell_type": "code",
   "execution_count": 36,
   "id": "d115d225-9fab-46ae-9571-86c52d7b279a",
   "metadata": {},
   "outputs": [
    {
     "data": {
      "text/plain": [
       "8884    3.6M\n",
       "8532     22M\n",
       "324     9.1M\n",
       "4541    203k\n",
       "4636     53M\n",
       "Name: Size, dtype: object"
      ]
     },
     "execution_count": 36,
     "metadata": {},
     "output_type": "execute_result"
    }
   ],
   "source": [
    "df['Size'].head()"
   ]
  },
  {
   "cell_type": "code",
   "execution_count": 37,
   "id": "c67ea68a-0c4f-40a3-ad69-226d180d087b",
   "metadata": {},
   "outputs": [
    {
     "data": {
      "text/plain": [
       "4541    203\n",
       "4897    371\n",
       "6671    243\n",
       "4871    239\n",
       "5035     78\n",
       "       ... \n",
       "5482    655\n",
       "7370    898\n",
       "9333    118\n",
       "8148    881\n",
       "5832    549\n",
       "Name: Size, Length: 310, dtype: object"
      ]
     },
     "execution_count": 37,
     "metadata": {},
     "output_type": "execute_result"
    }
   ],
   "source": [
    "df.loc[df['Size'].str.contains('k'), 'Size'].str.replace('k', '')"
   ]
  },
  {
   "cell_type": "code",
   "execution_count": 38,
   "id": "083c5527-e51c-428b-8571-52f722d0b06b",
   "metadata": {},
   "outputs": [
    {
     "data": {
      "text/plain": [
       "4541    203.0\n",
       "4897    371.0\n",
       "6671    243.0\n",
       "4871    239.0\n",
       "5035     78.0\n",
       "        ...  \n",
       "5482    655.0\n",
       "7370    898.0\n",
       "9333    118.0\n",
       "8148    881.0\n",
       "5832    549.0\n",
       "Name: Size, Length: 310, dtype: float64"
      ]
     },
     "execution_count": 38,
     "metadata": {},
     "output_type": "execute_result"
    }
   ],
   "source": [
    "pd.to_numeric(df.loc[df['Size'].str.contains('k'), 'Size'].str.replace('k', ''))"
   ]
  },
  {
   "cell_type": "code",
   "execution_count": 39,
   "id": "b08544f6-29d5-4a50-ae46-c47ac10f12b4",
   "metadata": {},
   "outputs": [
    {
     "data": {
      "text/plain": [
       "4541    207872.0\n",
       "4897    379904.0\n",
       "6671    248832.0\n",
       "4871    244736.0\n",
       "5035     79872.0\n",
       "          ...   \n",
       "5482    670720.0\n",
       "7370    919552.0\n",
       "9333    120832.0\n",
       "8148    902144.0\n",
       "5832    562176.0\n",
       "Name: Size, Length: 310, dtype: float64"
      ]
     },
     "execution_count": 39,
     "metadata": {},
     "output_type": "execute_result"
    }
   ],
   "source": [
    "(pd.to_numeric(df.loc[df['Size'].str.contains('k'), 'Size'].str.replace('k', '')))*1024"
   ]
  },
  {
   "cell_type": "code",
   "execution_count": 40,
   "id": "e8d59581-b07f-41d9-a4a7-3d5c55386f24",
   "metadata": {},
   "outputs": [],
   "source": [
    "df.loc[df['Size'].str.contains('k'), 'Size'] = (pd.to_numeric(df.loc[df['Size'].str.contains('k'), 'Size'].str.replace('k', ''))*1024).astype(str)"
   ]
  },
  {
   "cell_type": "code",
   "execution_count": 41,
   "id": "65ff7f48-f2ba-4473-8de0-8fde6302b17e",
   "metadata": {},
   "outputs": [
    {
     "data": {
      "text/plain": [
       "0"
      ]
     },
     "execution_count": 41,
     "metadata": {},
     "output_type": "execute_result"
    }
   ],
   "source": [
    "df['Size'].str.contains('k').sum()"
   ]
  },
  {
   "cell_type": "code",
   "execution_count": 42,
   "id": "3b586d67-4190-417a-a6f8-3c75010c3d22",
   "metadata": {},
   "outputs": [
    {
     "data": {
      "text/plain": [
       "8884        3.6M\n",
       "8532         22M\n",
       "324         9.1M\n",
       "4541    207872.0\n",
       "4636         53M\n",
       "Name: Size, dtype: object"
      ]
     },
     "execution_count": 42,
     "metadata": {},
     "output_type": "execute_result"
    }
   ],
   "source": [
    "df['Size'].head()"
   ]
  },
  {
   "cell_type": "markdown",
   "id": "caafee39-65ec-4dd0-aac5-c13e2c334e65",
   "metadata": {},
   "source": [
    "#### All the 'k' values are replaced with Bytes now"
   ]
  },
  {
   "cell_type": "code",
   "execution_count": 43,
   "id": "48c953cb-2edc-4823-95e3-9cb0a5ee1a29",
   "metadata": {},
   "outputs": [],
   "source": [
    "#df_copy_2 = df.copy()"
   ]
  },
  {
   "cell_type": "code",
   "execution_count": 44,
   "id": "d9a85dab-dc3e-4571-b845-11eff0ceda81",
   "metadata": {},
   "outputs": [
    {
     "data": {
      "text/plain": [
       "8111"
      ]
     },
     "execution_count": 44,
     "metadata": {},
     "output_type": "execute_result"
    }
   ],
   "source": [
    "df['Size'].str.contains('M').sum()"
   ]
  },
  {
   "cell_type": "code",
   "execution_count": 45,
   "id": "7b26bfd8-29fc-4b0c-afe8-311e9d20ca69",
   "metadata": {},
   "outputs": [
    {
     "data": {
      "text/plain": [
       "8884    3.6\n",
       "8532     22\n",
       "324     9.1\n",
       "4636     53\n",
       "5940     14\n",
       "       ... \n",
       "6334     59\n",
       "4362     26\n",
       "2575     18\n",
       "7559    3.2\n",
       "882     4.0\n",
       "Name: Size, Length: 8111, dtype: object"
      ]
     },
     "execution_count": 45,
     "metadata": {},
     "output_type": "execute_result"
    }
   ],
   "source": [
    "df.loc[df['Size'].str.contains('M'), 'Size'].str.replace('M', '')"
   ]
  },
  {
   "cell_type": "code",
   "execution_count": 46,
   "id": "5ef74fc0-832c-4bc5-8931-53d73b31e464",
   "metadata": {},
   "outputs": [],
   "source": [
    "df.loc[df['Size'].str.contains('M'), 'Size'] = (pd.to_numeric(df.loc[df['Size'].str.contains('M'), 'Size'].str.replace('M', ''))*(1024*1024)).astype(str)"
   ]
  },
  {
   "cell_type": "code",
   "execution_count": 47,
   "id": "df0ee817-788d-4bef-8666-d9919901f55a",
   "metadata": {},
   "outputs": [
    {
     "data": {
      "text/plain": [
       "0"
      ]
     },
     "execution_count": 47,
     "metadata": {},
     "output_type": "execute_result"
    }
   ],
   "source": [
    "df['Size'].str.contains('M').sum()"
   ]
  },
  {
   "cell_type": "markdown",
   "id": "4800de9a-5e5c-42e2-84ac-0e5bcaab4960",
   "metadata": {},
   "source": [
    "#### All the 'M' values are replaced with Bytes now"
   ]
  },
  {
   "cell_type": "markdown",
   "id": "f05be190-d0a3-4aef-bde0-709c1d23ab4f",
   "metadata": {},
   "source": [
    "## Replacing All the rest of the string values with the mean of the size."
   ]
  },
  {
   "cell_type": "code",
   "execution_count": 48,
   "id": "171a7434-7f55-4395-b6d3-46f836a23595",
   "metadata": {},
   "outputs": [
    {
     "data": {
      "text/plain": [
       "Size\n",
       "Varies with device    1227\n",
       "Name: count, dtype: int64"
      ]
     },
     "execution_count": 48,
     "metadata": {},
     "output_type": "execute_result"
    }
   ],
   "source": [
    "df[df['Size'].astype(str).str.contains('[a-zA-Z]')].value_counts('Size')"
   ]
  },
  {
   "cell_type": "code",
   "execution_count": 49,
   "id": "d6d79cf6-dbc0-46b7-8dd0-3282964c7eef",
   "metadata": {},
   "outputs": [],
   "source": [
    "df['Size'] = pd.to_numeric(df['Size'], errors='coerce')"
   ]
  },
  {
   "cell_type": "code",
   "execution_count": 50,
   "id": "d66b63db-aa34-4873-a2c0-6d339c036f81",
   "metadata": {},
   "outputs": [
    {
     "data": {
      "text/plain": [
       "21408503.5"
      ]
     },
     "execution_count": 50,
     "metadata": {},
     "output_type": "execute_result"
    }
   ],
   "source": [
    "mean_size = df.loc[df['Size'] != 'Varies with device', 'Size'].mean().round(1)\n",
    "mean_size"
   ]
  },
  {
   "cell_type": "code",
   "execution_count": 51,
   "id": "5b51a337-b0fd-4bbf-ae9a-92fb5b6759af",
   "metadata": {},
   "outputs": [
    {
     "data": {
      "text/plain": [
       "1227"
      ]
     },
     "execution_count": 51,
     "metadata": {},
     "output_type": "execute_result"
    }
   ],
   "source": [
    "df['Size'].isna().sum()"
   ]
  },
  {
   "cell_type": "code",
   "execution_count": 52,
   "id": "7b699610-ff08-4c3d-8aeb-c7b5a09b26db",
   "metadata": {},
   "outputs": [],
   "source": [
    "df['Size'] = df['Size'].fillna(mean_size)"
   ]
  },
  {
   "cell_type": "code",
   "execution_count": 53,
   "id": "4e0b8f26-2814-4736-9e15-c91351526186",
   "metadata": {},
   "outputs": [
    {
     "name": "stdout",
     "output_type": "stream",
     "text": [
      "<class 'pandas.core.series.Series'>\n",
      "Index: 9648 entries, 8884 to 882\n",
      "Series name: Size\n",
      "Non-Null Count  Dtype  \n",
      "--------------  -----  \n",
      "9648 non-null   float64\n",
      "dtypes: float64(1)\n",
      "memory usage: 150.8 KB\n"
     ]
    }
   ],
   "source": [
    "df['Size'].info()"
   ]
  },
  {
   "cell_type": "code",
   "execution_count": 54,
   "id": "6329f6f7-314a-42e3-9a7e-e95b83f7bbda",
   "metadata": {},
   "outputs": [
    {
     "data": {
      "text/plain": [
       "0"
      ]
     },
     "execution_count": 54,
     "metadata": {},
     "output_type": "execute_result"
    }
   ],
   "source": [
    "df['Size'].isna().sum()"
   ]
  },
  {
   "cell_type": "code",
   "execution_count": 55,
   "id": "aa94e127-35cf-416a-85dc-cba187293bbc",
   "metadata": {},
   "outputs": [
    {
     "data": {
      "text/plain": [
       "8884     3774873.6\n",
       "8532    23068672.0\n",
       "324      9542041.6\n",
       "4541      207872.0\n",
       "4636    55574528.0\n",
       "           ...    \n",
       "6334    61865984.0\n",
       "4362    27262976.0\n",
       "2575    18874368.0\n",
       "7559     3355443.2\n",
       "882      4194304.0\n",
       "Name: Size, Length: 9648, dtype: float64"
      ]
     },
     "execution_count": 55,
     "metadata": {},
     "output_type": "execute_result"
    }
   ],
   "source": [
    "pd.to_numeric(df['Size'])"
   ]
  },
  {
   "cell_type": "code",
   "execution_count": 56,
   "id": "ab9aa626-7b34-4195-ad95-ce4413c13151",
   "metadata": {},
   "outputs": [
    {
     "data": {
      "text/html": [
       "<div>\n",
       "<style scoped>\n",
       "    .dataframe tbody tr th:only-of-type {\n",
       "        vertical-align: middle;\n",
       "    }\n",
       "\n",
       "    .dataframe tbody tr th {\n",
       "        vertical-align: top;\n",
       "    }\n",
       "\n",
       "    .dataframe thead th {\n",
       "        text-align: right;\n",
       "    }\n",
       "</style>\n",
       "<table border=\"1\" class=\"dataframe\">\n",
       "  <thead>\n",
       "    <tr style=\"text-align: right;\">\n",
       "      <th></th>\n",
       "      <th>App</th>\n",
       "      <th>Category</th>\n",
       "      <th>Rating</th>\n",
       "      <th>Reviews</th>\n",
       "      <th>Size</th>\n",
       "      <th>Installs</th>\n",
       "      <th>Type</th>\n",
       "      <th>Price</th>\n",
       "      <th>Content Rating</th>\n",
       "      <th>Genres</th>\n",
       "      <th>Last Updated</th>\n",
       "      <th>Current Ver</th>\n",
       "      <th>Android Ver</th>\n",
       "    </tr>\n",
       "  </thead>\n",
       "  <tbody>\n",
       "    <tr>\n",
       "      <th>8884</th>\n",
       "      <td>\"i DT\" Fútbol. Todos Somos Técnicos.</td>\n",
       "      <td>Sports</td>\n",
       "      <td>4.191757</td>\n",
       "      <td>27</td>\n",
       "      <td>3774873.6</td>\n",
       "      <td>500</td>\n",
       "      <td>Free</td>\n",
       "      <td>0</td>\n",
       "      <td>Everyone</td>\n",
       "      <td>Sports</td>\n",
       "      <td>October 7, 2017</td>\n",
       "      <td>0.22</td>\n",
       "      <td>4.1 and up</td>\n",
       "    </tr>\n",
       "    <tr>\n",
       "      <th>8532</th>\n",
       "      <td>+Download 4 Instagram Twitter</td>\n",
       "      <td>Social</td>\n",
       "      <td>4.500000</td>\n",
       "      <td>40467</td>\n",
       "      <td>23068672.0</td>\n",
       "      <td>1000000</td>\n",
       "      <td>Free</td>\n",
       "      <td>0</td>\n",
       "      <td>Everyone</td>\n",
       "      <td>Social</td>\n",
       "      <td>August 2, 2018</td>\n",
       "      <td>5.03</td>\n",
       "      <td>4.1 and up</td>\n",
       "    </tr>\n",
       "    <tr>\n",
       "      <th>324</th>\n",
       "      <td>- Free Comics - Comic Apps</td>\n",
       "      <td>Comics</td>\n",
       "      <td>3.500000</td>\n",
       "      <td>115</td>\n",
       "      <td>9542041.6</td>\n",
       "      <td>10000</td>\n",
       "      <td>Free</td>\n",
       "      <td>0</td>\n",
       "      <td>Mature 17+</td>\n",
       "      <td>Comics</td>\n",
       "      <td>July 13, 2018</td>\n",
       "      <td>5.0.12</td>\n",
       "      <td>5.0 and up</td>\n",
       "    </tr>\n",
       "    <tr>\n",
       "      <th>4541</th>\n",
       "      <td>.R</td>\n",
       "      <td>Tools</td>\n",
       "      <td>4.500000</td>\n",
       "      <td>259</td>\n",
       "      <td>207872.0</td>\n",
       "      <td>10000</td>\n",
       "      <td>Free</td>\n",
       "      <td>0</td>\n",
       "      <td>Everyone</td>\n",
       "      <td>Tools</td>\n",
       "      <td>September 16, 2014</td>\n",
       "      <td>1.1.06</td>\n",
       "      <td>1.5 and up</td>\n",
       "    </tr>\n",
       "    <tr>\n",
       "      <th>4636</th>\n",
       "      <td>/u/app</td>\n",
       "      <td>Communication</td>\n",
       "      <td>4.700000</td>\n",
       "      <td>573</td>\n",
       "      <td>55574528.0</td>\n",
       "      <td>10000</td>\n",
       "      <td>Free</td>\n",
       "      <td>0</td>\n",
       "      <td>Mature 17+</td>\n",
       "      <td>Communication</td>\n",
       "      <td>July 3, 2018</td>\n",
       "      <td>4.2.4</td>\n",
       "      <td>4.1 and up</td>\n",
       "    </tr>\n",
       "  </tbody>\n",
       "</table>\n",
       "</div>"
      ],
      "text/plain": [
       "                                       App       Category    Rating  Reviews  \\\n",
       "8884  \"i DT\" Fútbol. Todos Somos Técnicos.         Sports  4.191757       27   \n",
       "8532         +Download 4 Instagram Twitter         Social  4.500000    40467   \n",
       "324             - Free Comics - Comic Apps         Comics  3.500000      115   \n",
       "4541                                    .R          Tools  4.500000      259   \n",
       "4636                                /u/app  Communication  4.700000      573   \n",
       "\n",
       "            Size  Installs  Type Price Content Rating         Genres  \\\n",
       "8884   3774873.6       500  Free     0       Everyone         Sports   \n",
       "8532  23068672.0   1000000  Free     0       Everyone         Social   \n",
       "324    9542041.6     10000  Free     0     Mature 17+         Comics   \n",
       "4541    207872.0     10000  Free     0       Everyone          Tools   \n",
       "4636  55574528.0     10000  Free     0     Mature 17+  Communication   \n",
       "\n",
       "            Last Updated Current Ver Android Ver  \n",
       "8884     October 7, 2017        0.22  4.1 and up  \n",
       "8532      August 2, 2018        5.03  4.1 and up  \n",
       "324        July 13, 2018      5.0.12  5.0 and up  \n",
       "4541  September 16, 2014      1.1.06  1.5 and up  \n",
       "4636        July 3, 2018       4.2.4  4.1 and up  "
      ]
     },
     "execution_count": 56,
     "metadata": {},
     "output_type": "execute_result"
    }
   ],
   "source": [
    "df.head()"
   ]
  },
  {
   "cell_type": "markdown",
   "id": "3f01dd0c-f39d-438a-bdc7-1db5b5b0a0c3",
   "metadata": {},
   "source": [
    "## Cleaning and converting the Price column to numeric"
   ]
  },
  {
   "cell_type": "code",
   "execution_count": 57,
   "id": "e90d435d-bc4f-4611-954b-e91ff57a4a09",
   "metadata": {},
   "outputs": [
    {
     "data": {
      "text/plain": [
       "8884         0\n",
       "8532         0\n",
       "324          0\n",
       "4541         0\n",
       "4636         0\n",
       "         ...  \n",
       "6334         0\n",
       "4362    399.99\n",
       "2575         0\n",
       "7559         0\n",
       "882          0\n",
       "Name: Price, Length: 9648, dtype: object"
      ]
     },
     "execution_count": 57,
     "metadata": {},
     "output_type": "execute_result"
    }
   ],
   "source": [
    "df['Price'] = df['Price'].str.replace('Free','').str.replace('$','')\n",
    "df['Price']"
   ]
  },
  {
   "cell_type": "code",
   "execution_count": 58,
   "id": "f4b9ccee-43c0-4e8e-83f7-ee94af0f2d6b",
   "metadata": {},
   "outputs": [],
   "source": [
    "df['Price'] = pd.to_numeric(df['Price'])"
   ]
  },
  {
   "cell_type": "code",
   "execution_count": 59,
   "id": "92425c4d-a0c7-4876-9a95-bae79c8a3538",
   "metadata": {},
   "outputs": [
    {
     "name": "stdout",
     "output_type": "stream",
     "text": [
      "<class 'pandas.core.series.Series'>\n",
      "Index: 9648 entries, 8884 to 882\n",
      "Series name: Price\n",
      "Non-Null Count  Dtype  \n",
      "--------------  -----  \n",
      "9648 non-null   float64\n",
      "dtypes: float64(1)\n",
      "memory usage: 150.8 KB\n"
     ]
    }
   ],
   "source": [
    "df['Price'].info()"
   ]
  },
  {
   "cell_type": "markdown",
   "id": "79a7a671-e6f6-4a05-9fb1-92676215abd6",
   "metadata": {},
   "source": [
    "# Analysis on the Cleaned Data"
   ]
  },
  {
   "cell_type": "markdown",
   "id": "7dcbbc36-a7d6-40dd-993d-80ff9406a56c",
   "metadata": {},
   "source": [
    "## Which app has the most reviews?"
   ]
  },
  {
   "cell_type": "code",
   "execution_count": 60,
   "id": "21b1abba-3aa7-4197-93c2-1303184c93bb",
   "metadata": {},
   "outputs": [
    {
     "data": {
      "text/html": [
       "<div>\n",
       "<style scoped>\n",
       "    .dataframe tbody tr th:only-of-type {\n",
       "        vertical-align: middle;\n",
       "    }\n",
       "\n",
       "    .dataframe tbody tr th {\n",
       "        vertical-align: top;\n",
       "    }\n",
       "\n",
       "    .dataframe thead th {\n",
       "        text-align: right;\n",
       "    }\n",
       "</style>\n",
       "<table border=\"1\" class=\"dataframe\">\n",
       "  <thead>\n",
       "    <tr style=\"text-align: right;\">\n",
       "      <th></th>\n",
       "      <th>App</th>\n",
       "      <th>Category</th>\n",
       "      <th>Rating</th>\n",
       "      <th>Reviews</th>\n",
       "      <th>Size</th>\n",
       "      <th>Installs</th>\n",
       "      <th>Type</th>\n",
       "      <th>Price</th>\n",
       "      <th>Content Rating</th>\n",
       "      <th>Genres</th>\n",
       "      <th>Last Updated</th>\n",
       "      <th>Current Ver</th>\n",
       "      <th>Android Ver</th>\n",
       "    </tr>\n",
       "  </thead>\n",
       "  <tbody>\n",
       "    <tr>\n",
       "      <th>2544</th>\n",
       "      <td>Facebook</td>\n",
       "      <td>Social</td>\n",
       "      <td>4.1</td>\n",
       "      <td>78158306</td>\n",
       "      <td>21408503.5</td>\n",
       "      <td>1000000000</td>\n",
       "      <td>Free</td>\n",
       "      <td>0.0</td>\n",
       "      <td>Teen</td>\n",
       "      <td>Social</td>\n",
       "      <td>August 3, 2018</td>\n",
       "      <td>Varies with device</td>\n",
       "      <td>Varies with device</td>\n",
       "    </tr>\n",
       "  </tbody>\n",
       "</table>\n",
       "</div>"
      ],
      "text/plain": [
       "           App Category  Rating   Reviews        Size    Installs  Type  \\\n",
       "2544  Facebook   Social     4.1  78158306  21408503.5  1000000000  Free   \n",
       "\n",
       "      Price Content Rating  Genres    Last Updated         Current Ver  \\\n",
       "2544    0.0           Teen  Social  August 3, 2018  Varies with device   \n",
       "\n",
       "             Android Ver  \n",
       "2544  Varies with device  "
      ]
     },
     "execution_count": 60,
     "metadata": {},
     "output_type": "execute_result"
    }
   ],
   "source": [
    "df.sort_values(by = 'Reviews', ascending = False).head(1)"
   ]
  },
  {
   "cell_type": "markdown",
   "id": "94df9fd0-34e7-4484-b6c0-611b474a47df",
   "metadata": {},
   "source": [
    "#### Ans: Facebook"
   ]
  },
  {
   "cell_type": "markdown",
   "id": "242f0195-b519-4fde-9399-946e3eabf7dd",
   "metadata": {},
   "source": [
    "## What category has the highest number of apps uploaded to the store?"
   ]
  },
  {
   "cell_type": "code",
   "execution_count": 61,
   "id": "3717651a-30ce-4ee3-9c19-9f2c0c29824c",
   "metadata": {},
   "outputs": [
    {
     "data": {
      "text/plain": [
       "Category\n",
       "Family      1870\n",
       "Game         946\n",
       "Tools        827\n",
       "Business     420\n",
       "Medical      395\n",
       "Name: count, dtype: int64"
      ]
     },
     "execution_count": 61,
     "metadata": {},
     "output_type": "execute_result"
    }
   ],
   "source": [
    "df['Category'].value_counts(ascending = False).head()"
   ]
  },
  {
   "cell_type": "markdown",
   "id": "8e3d38ec-d4d3-4b39-ae9f-41afabc2015b",
   "metadata": {},
   "source": [
    "#### Ans: Family"
   ]
  },
  {
   "cell_type": "markdown",
   "id": "b4f11913-bcb8-4bd8-a67b-b297077b8656",
   "metadata": {},
   "source": [
    "## To which category belongs the most expensive app?"
   ]
  },
  {
   "cell_type": "code",
   "execution_count": 62,
   "id": "fe7a7d51-e0f7-4130-ba74-f6d4436b6b62",
   "metadata": {},
   "outputs": [
    {
     "data": {
      "text/html": [
       "<div>\n",
       "<style scoped>\n",
       "    .dataframe tbody tr th:only-of-type {\n",
       "        vertical-align: middle;\n",
       "    }\n",
       "\n",
       "    .dataframe tbody tr th {\n",
       "        vertical-align: top;\n",
       "    }\n",
       "\n",
       "    .dataframe thead th {\n",
       "        text-align: right;\n",
       "    }\n",
       "</style>\n",
       "<table border=\"1\" class=\"dataframe\">\n",
       "  <thead>\n",
       "    <tr style=\"text-align: right;\">\n",
       "      <th></th>\n",
       "      <th>App</th>\n",
       "      <th>Category</th>\n",
       "      <th>Rating</th>\n",
       "      <th>Reviews</th>\n",
       "      <th>Size</th>\n",
       "      <th>Installs</th>\n",
       "      <th>Type</th>\n",
       "      <th>Price</th>\n",
       "      <th>Content Rating</th>\n",
       "      <th>Genres</th>\n",
       "      <th>Last Updated</th>\n",
       "      <th>Current Ver</th>\n",
       "      <th>Android Ver</th>\n",
       "    </tr>\n",
       "  </thead>\n",
       "  <tbody>\n",
       "    <tr>\n",
       "      <th>4367</th>\n",
       "      <td>I'm Rich - Trump Edition</td>\n",
       "      <td>Lifestyle</td>\n",
       "      <td>3.6</td>\n",
       "      <td>275</td>\n",
       "      <td>7654604.8</td>\n",
       "      <td>10000</td>\n",
       "      <td>Paid</td>\n",
       "      <td>400.00</td>\n",
       "      <td>Everyone</td>\n",
       "      <td>Lifestyle</td>\n",
       "      <td>May 3, 2018</td>\n",
       "      <td>1.0.1</td>\n",
       "      <td>4.1 and up</td>\n",
       "    </tr>\n",
       "    <tr>\n",
       "      <th>5358</th>\n",
       "      <td>I am Rich!</td>\n",
       "      <td>Finance</td>\n",
       "      <td>3.8</td>\n",
       "      <td>93</td>\n",
       "      <td>23068672.0</td>\n",
       "      <td>1000</td>\n",
       "      <td>Paid</td>\n",
       "      <td>399.99</td>\n",
       "      <td>Everyone</td>\n",
       "      <td>Finance</td>\n",
       "      <td>December 11, 2017</td>\n",
       "      <td>1.0</td>\n",
       "      <td>4.1 and up</td>\n",
       "    </tr>\n",
       "    <tr>\n",
       "      <th>5356</th>\n",
       "      <td>I Am Rich Premium</td>\n",
       "      <td>Finance</td>\n",
       "      <td>4.1</td>\n",
       "      <td>1867</td>\n",
       "      <td>4928307.2</td>\n",
       "      <td>50000</td>\n",
       "      <td>Paid</td>\n",
       "      <td>399.99</td>\n",
       "      <td>Everyone</td>\n",
       "      <td>Finance</td>\n",
       "      <td>November 12, 2017</td>\n",
       "      <td>1.6</td>\n",
       "      <td>4.0 and up</td>\n",
       "    </tr>\n",
       "    <tr>\n",
       "      <th>5362</th>\n",
       "      <td>I Am Rich Pro</td>\n",
       "      <td>Family</td>\n",
       "      <td>4.4</td>\n",
       "      <td>201</td>\n",
       "      <td>2831155.2</td>\n",
       "      <td>5000</td>\n",
       "      <td>Paid</td>\n",
       "      <td>399.99</td>\n",
       "      <td>Everyone</td>\n",
       "      <td>Entertainment</td>\n",
       "      <td>May 30, 2017</td>\n",
       "      <td>1.54</td>\n",
       "      <td>1.6 and up</td>\n",
       "    </tr>\n",
       "    <tr>\n",
       "      <th>4197</th>\n",
       "      <td>most expensive app (H)</td>\n",
       "      <td>Family</td>\n",
       "      <td>4.3</td>\n",
       "      <td>6</td>\n",
       "      <td>1572864.0</td>\n",
       "      <td>100</td>\n",
       "      <td>Paid</td>\n",
       "      <td>399.99</td>\n",
       "      <td>Everyone</td>\n",
       "      <td>Entertainment</td>\n",
       "      <td>July 16, 2018</td>\n",
       "      <td>1.0</td>\n",
       "      <td>7.0 and up</td>\n",
       "    </tr>\n",
       "  </tbody>\n",
       "</table>\n",
       "</div>"
      ],
      "text/plain": [
       "                           App   Category  Rating  Reviews        Size  \\\n",
       "4367  I'm Rich - Trump Edition  Lifestyle     3.6      275   7654604.8   \n",
       "5358                I am Rich!    Finance     3.8       93  23068672.0   \n",
       "5356         I Am Rich Premium    Finance     4.1     1867   4928307.2   \n",
       "5362             I Am Rich Pro     Family     4.4      201   2831155.2   \n",
       "4197    most expensive app (H)     Family     4.3        6   1572864.0   \n",
       "\n",
       "      Installs  Type   Price Content Rating         Genres       Last Updated  \\\n",
       "4367     10000  Paid  400.00       Everyone      Lifestyle        May 3, 2018   \n",
       "5358      1000  Paid  399.99       Everyone        Finance  December 11, 2017   \n",
       "5356     50000  Paid  399.99       Everyone        Finance  November 12, 2017   \n",
       "5362      5000  Paid  399.99       Everyone  Entertainment       May 30, 2017   \n",
       "4197       100  Paid  399.99       Everyone  Entertainment      July 16, 2018   \n",
       "\n",
       "     Current Ver Android Ver  \n",
       "4367       1.0.1  4.1 and up  \n",
       "5358         1.0  4.1 and up  \n",
       "5356         1.6  4.0 and up  \n",
       "5362        1.54  1.6 and up  \n",
       "4197         1.0  7.0 and up  "
      ]
     },
     "execution_count": 62,
     "metadata": {},
     "output_type": "execute_result"
    }
   ],
   "source": [
    "df.sort_values(by = 'Price', ascending = False).head()"
   ]
  },
  {
   "cell_type": "markdown",
   "id": "6df32a91-9750-4b89-8e4a-71242b287d1b",
   "metadata": {},
   "source": [
    "#### Ans: Lifestyle"
   ]
  },
  {
   "cell_type": "markdown",
   "id": "0213bb1b-ac8a-4d83-bea0-a565e1b0afcd",
   "metadata": {},
   "source": [
    "## What's the name of the most expensive game?"
   ]
  },
  {
   "cell_type": "code",
   "execution_count": 63,
   "id": "bc1faa22-93cf-4117-b3bc-8fea4353b747",
   "metadata": {},
   "outputs": [
    {
     "data": {
      "text/html": [
       "<div>\n",
       "<style scoped>\n",
       "    .dataframe tbody tr th:only-of-type {\n",
       "        vertical-align: middle;\n",
       "    }\n",
       "\n",
       "    .dataframe tbody tr th {\n",
       "        vertical-align: top;\n",
       "    }\n",
       "\n",
       "    .dataframe thead th {\n",
       "        text-align: right;\n",
       "    }\n",
       "</style>\n",
       "<table border=\"1\" class=\"dataframe\">\n",
       "  <thead>\n",
       "    <tr style=\"text-align: right;\">\n",
       "      <th></th>\n",
       "      <th>App</th>\n",
       "      <th>Category</th>\n",
       "      <th>Rating</th>\n",
       "      <th>Reviews</th>\n",
       "      <th>Size</th>\n",
       "      <th>Installs</th>\n",
       "      <th>Type</th>\n",
       "      <th>Price</th>\n",
       "      <th>Content Rating</th>\n",
       "      <th>Genres</th>\n",
       "      <th>Last Updated</th>\n",
       "      <th>Current Ver</th>\n",
       "      <th>Android Ver</th>\n",
       "    </tr>\n",
       "  </thead>\n",
       "  <tbody>\n",
       "    <tr>\n",
       "      <th>4203</th>\n",
       "      <td>The World Ends With You</td>\n",
       "      <td>Game</td>\n",
       "      <td>4.6</td>\n",
       "      <td>4108</td>\n",
       "      <td>13631488.0</td>\n",
       "      <td>10000</td>\n",
       "      <td>Paid</td>\n",
       "      <td>17.99</td>\n",
       "      <td>Everyone 10+</td>\n",
       "      <td>Arcade</td>\n",
       "      <td>December 14, 2015</td>\n",
       "      <td>1.0.4</td>\n",
       "      <td>4.0 and up</td>\n",
       "    </tr>\n",
       "  </tbody>\n",
       "</table>\n",
       "</div>"
      ],
      "text/plain": [
       "                          App Category  Rating  Reviews        Size  Installs  \\\n",
       "4203  The World Ends With You     Game     4.6     4108  13631488.0     10000   \n",
       "\n",
       "      Type  Price Content Rating  Genres       Last Updated Current Ver  \\\n",
       "4203  Paid  17.99   Everyone 10+  Arcade  December 14, 2015       1.0.4   \n",
       "\n",
       "     Android Ver  \n",
       "4203  4.0 and up  "
      ]
     },
     "execution_count": 63,
     "metadata": {},
     "output_type": "execute_result"
    }
   ],
   "source": [
    "df.loc[df['Category'] == 'Game'].sort_values(by = 'Price', ascending = False).head(1)"
   ]
  },
  {
   "cell_type": "markdown",
   "id": "4b13510e-d3aa-4150-aade-f2a44322ae1f",
   "metadata": {},
   "source": [
    "#### Ans: \"The World Ends With You\""
   ]
  },
  {
   "cell_type": "markdown",
   "id": "70f56a8f-2771-4da9-beff-9864c30e1cf2",
   "metadata": {},
   "source": [
    "## Which is the most installed Finance App?"
   ]
  },
  {
   "cell_type": "code",
   "execution_count": 64,
   "id": "44f1ae52-f844-46f1-8074-88b0f0c5f5fb",
   "metadata": {},
   "outputs": [
    {
     "data": {
      "text/html": [
       "<div>\n",
       "<style scoped>\n",
       "    .dataframe tbody tr th:only-of-type {\n",
       "        vertical-align: middle;\n",
       "    }\n",
       "\n",
       "    .dataframe tbody tr th {\n",
       "        vertical-align: top;\n",
       "    }\n",
       "\n",
       "    .dataframe thead th {\n",
       "        text-align: right;\n",
       "    }\n",
       "</style>\n",
       "<table border=\"1\" class=\"dataframe\">\n",
       "  <thead>\n",
       "    <tr style=\"text-align: right;\">\n",
       "      <th></th>\n",
       "      <th>App</th>\n",
       "      <th>Category</th>\n",
       "      <th>Rating</th>\n",
       "      <th>Reviews</th>\n",
       "      <th>Size</th>\n",
       "      <th>Installs</th>\n",
       "      <th>Type</th>\n",
       "      <th>Price</th>\n",
       "      <th>Content Rating</th>\n",
       "      <th>Genres</th>\n",
       "      <th>Last Updated</th>\n",
       "      <th>Current Ver</th>\n",
       "      <th>Android Ver</th>\n",
       "    </tr>\n",
       "  </thead>\n",
       "  <tbody>\n",
       "    <tr>\n",
       "      <th>5601</th>\n",
       "      <td>Google Pay</td>\n",
       "      <td>Finance</td>\n",
       "      <td>4.2</td>\n",
       "      <td>348132</td>\n",
       "      <td>21408503.5</td>\n",
       "      <td>100000000</td>\n",
       "      <td>Free</td>\n",
       "      <td>0.0</td>\n",
       "      <td>Everyone</td>\n",
       "      <td>Finance</td>\n",
       "      <td>July 26, 2018</td>\n",
       "      <td>2.70.206190089</td>\n",
       "      <td>Varies with device</td>\n",
       "    </tr>\n",
       "  </tbody>\n",
       "</table>\n",
       "</div>"
      ],
      "text/plain": [
       "             App Category  Rating  Reviews        Size   Installs  Type  \\\n",
       "5601  Google Pay  Finance     4.2   348132  21408503.5  100000000  Free   \n",
       "\n",
       "      Price Content Rating   Genres   Last Updated     Current Ver  \\\n",
       "5601    0.0       Everyone  Finance  July 26, 2018  2.70.206190089   \n",
       "\n",
       "             Android Ver  \n",
       "5601  Varies with device  "
      ]
     },
     "execution_count": 64,
     "metadata": {},
     "output_type": "execute_result"
    }
   ],
   "source": [
    "df.loc[df['Category'] == 'Finance'].sort_values(by = 'Installs', ascending = False).head(1)"
   ]
  },
  {
   "cell_type": "markdown",
   "id": "052dff5b-09aa-4c9c-91d7-f7ac5425ae33",
   "metadata": {},
   "source": [
    "#### Ans: \tGoogle Pay"
   ]
  },
  {
   "cell_type": "markdown",
   "id": "c627d819-9ecb-46c3-8e2e-9b8ba09ab4b8",
   "metadata": {},
   "source": [
    "## What Teen Game has the most reviews?"
   ]
  },
  {
   "cell_type": "code",
   "execution_count": 65,
   "id": "c2018207-1809-42e1-bedd-ac9876123024",
   "metadata": {},
   "outputs": [
    {
     "data": {
      "text/html": [
       "<div>\n",
       "<style scoped>\n",
       "    .dataframe tbody tr th:only-of-type {\n",
       "        vertical-align: middle;\n",
       "    }\n",
       "\n",
       "    .dataframe tbody tr th {\n",
       "        vertical-align: top;\n",
       "    }\n",
       "\n",
       "    .dataframe thead th {\n",
       "        text-align: right;\n",
       "    }\n",
       "</style>\n",
       "<table border=\"1\" class=\"dataframe\">\n",
       "  <thead>\n",
       "    <tr style=\"text-align: right;\">\n",
       "      <th></th>\n",
       "      <th>App</th>\n",
       "      <th>Category</th>\n",
       "      <th>Rating</th>\n",
       "      <th>Reviews</th>\n",
       "      <th>Size</th>\n",
       "      <th>Installs</th>\n",
       "      <th>Type</th>\n",
       "      <th>Price</th>\n",
       "      <th>Content Rating</th>\n",
       "      <th>Genres</th>\n",
       "      <th>Last Updated</th>\n",
       "      <th>Current Ver</th>\n",
       "      <th>Android Ver</th>\n",
       "    </tr>\n",
       "  </thead>\n",
       "  <tbody>\n",
       "    <tr>\n",
       "      <th>3912</th>\n",
       "      <td>Asphalt 8: Airborne</td>\n",
       "      <td>Game</td>\n",
       "      <td>4.5</td>\n",
       "      <td>8389714</td>\n",
       "      <td>96468992.0</td>\n",
       "      <td>100000000</td>\n",
       "      <td>Free</td>\n",
       "      <td>0.0</td>\n",
       "      <td>Teen</td>\n",
       "      <td>Racing</td>\n",
       "      <td>July 4, 2018</td>\n",
       "      <td>3.7.1a</td>\n",
       "      <td>4.0.3 and up</td>\n",
       "    </tr>\n",
       "    <tr>\n",
       "      <th>5417</th>\n",
       "      <td>Mobile Legends: Bang Bang</td>\n",
       "      <td>Game</td>\n",
       "      <td>4.4</td>\n",
       "      <td>8219586</td>\n",
       "      <td>103809024.0</td>\n",
       "      <td>100000000</td>\n",
       "      <td>Free</td>\n",
       "      <td>0.0</td>\n",
       "      <td>Teen</td>\n",
       "      <td>Action</td>\n",
       "      <td>July 24, 2018</td>\n",
       "      <td>1.2.97.3042</td>\n",
       "      <td>4.0.3 and up</td>\n",
       "    </tr>\n",
       "    <tr>\n",
       "      <th>1988</th>\n",
       "      <td>Hungry Shark Evolution</td>\n",
       "      <td>Game</td>\n",
       "      <td>4.5</td>\n",
       "      <td>6074627</td>\n",
       "      <td>104857600.0</td>\n",
       "      <td>100000000</td>\n",
       "      <td>Free</td>\n",
       "      <td>0.0</td>\n",
       "      <td>Teen</td>\n",
       "      <td>Arcade</td>\n",
       "      <td>July 25, 2018</td>\n",
       "      <td>6.0.0</td>\n",
       "      <td>4.1 and up</td>\n",
       "    </tr>\n",
       "    <tr>\n",
       "      <th>10327</th>\n",
       "      <td>Garena Free Fire</td>\n",
       "      <td>Game</td>\n",
       "      <td>4.5</td>\n",
       "      <td>5534114</td>\n",
       "      <td>55574528.0</td>\n",
       "      <td>100000000</td>\n",
       "      <td>Free</td>\n",
       "      <td>0.0</td>\n",
       "      <td>Teen</td>\n",
       "      <td>Action</td>\n",
       "      <td>August 3, 2018</td>\n",
       "      <td>1.21.0</td>\n",
       "      <td>4.0.3 and up</td>\n",
       "    </tr>\n",
       "    <tr>\n",
       "      <th>3967</th>\n",
       "      <td>Pixel Gun 3D: Survival shooter &amp; Battle Royale</td>\n",
       "      <td>Game</td>\n",
       "      <td>4.5</td>\n",
       "      <td>4487182</td>\n",
       "      <td>57671680.0</td>\n",
       "      <td>50000000</td>\n",
       "      <td>Free</td>\n",
       "      <td>0.0</td>\n",
       "      <td>Teen</td>\n",
       "      <td>Action</td>\n",
       "      <td>July 4, 2018</td>\n",
       "      <td>15.1.2</td>\n",
       "      <td>4.0.3 and up</td>\n",
       "    </tr>\n",
       "  </tbody>\n",
       "</table>\n",
       "</div>"
      ],
      "text/plain": [
       "                                                  App Category  Rating  \\\n",
       "3912                              Asphalt 8: Airborne     Game     4.5   \n",
       "5417                        Mobile Legends: Bang Bang     Game     4.4   \n",
       "1988                           Hungry Shark Evolution     Game     4.5   \n",
       "10327                                Garena Free Fire     Game     4.5   \n",
       "3967   Pixel Gun 3D: Survival shooter & Battle Royale     Game     4.5   \n",
       "\n",
       "       Reviews         Size   Installs  Type  Price Content Rating  Genres  \\\n",
       "3912   8389714   96468992.0  100000000  Free    0.0           Teen  Racing   \n",
       "5417   8219586  103809024.0  100000000  Free    0.0           Teen  Action   \n",
       "1988   6074627  104857600.0  100000000  Free    0.0           Teen  Arcade   \n",
       "10327  5534114   55574528.0  100000000  Free    0.0           Teen  Action   \n",
       "3967   4487182   57671680.0   50000000  Free    0.0           Teen  Action   \n",
       "\n",
       "         Last Updated  Current Ver   Android Ver  \n",
       "3912     July 4, 2018       3.7.1a  4.0.3 and up  \n",
       "5417    July 24, 2018  1.2.97.3042  4.0.3 and up  \n",
       "1988    July 25, 2018        6.0.0    4.1 and up  \n",
       "10327  August 3, 2018       1.21.0  4.0.3 and up  \n",
       "3967     July 4, 2018       15.1.2  4.0.3 and up  "
      ]
     },
     "execution_count": 65,
     "metadata": {},
     "output_type": "execute_result"
    }
   ],
   "source": [
    "df.loc[(df['Category'] == 'Game') & (df['Content Rating'] == 'Teen')].sort_values(by = 'Reviews', ascending = False).head()"
   ]
  },
  {
   "cell_type": "markdown",
   "id": "b22ac20a-a356-4a75-84d8-3da4e7c7b723",
   "metadata": {},
   "source": [
    "#### Ans: Asphalt 8: Airborne"
   ]
  },
  {
   "cell_type": "markdown",
   "id": "52f3cfdb-71d4-49fa-a976-cbce64e6ebe5",
   "metadata": {},
   "source": [
    "## Which is the free game with the most reviews?"
   ]
  },
  {
   "cell_type": "code",
   "execution_count": 66,
   "id": "7a51875a-699c-47f0-9a93-e4c8210b1007",
   "metadata": {},
   "outputs": [
    {
     "data": {
      "text/html": [
       "<div>\n",
       "<style scoped>\n",
       "    .dataframe tbody tr th:only-of-type {\n",
       "        vertical-align: middle;\n",
       "    }\n",
       "\n",
       "    .dataframe tbody tr th {\n",
       "        vertical-align: top;\n",
       "    }\n",
       "\n",
       "    .dataframe thead th {\n",
       "        text-align: right;\n",
       "    }\n",
       "</style>\n",
       "<table border=\"1\" class=\"dataframe\">\n",
       "  <thead>\n",
       "    <tr style=\"text-align: right;\">\n",
       "      <th></th>\n",
       "      <th>App</th>\n",
       "      <th>Category</th>\n",
       "      <th>Rating</th>\n",
       "      <th>Reviews</th>\n",
       "      <th>Size</th>\n",
       "      <th>Installs</th>\n",
       "      <th>Type</th>\n",
       "      <th>Price</th>\n",
       "      <th>Content Rating</th>\n",
       "      <th>Genres</th>\n",
       "      <th>Last Updated</th>\n",
       "      <th>Current Ver</th>\n",
       "      <th>Android Ver</th>\n",
       "    </tr>\n",
       "  </thead>\n",
       "  <tbody>\n",
       "    <tr>\n",
       "      <th>1879</th>\n",
       "      <td>Clash of Clans</td>\n",
       "      <td>Game</td>\n",
       "      <td>4.6</td>\n",
       "      <td>44893888</td>\n",
       "      <td>102760448.0</td>\n",
       "      <td>100000000</td>\n",
       "      <td>Free</td>\n",
       "      <td>0.0</td>\n",
       "      <td>Everyone 10+</td>\n",
       "      <td>Strategy</td>\n",
       "      <td>July 15, 2018</td>\n",
       "      <td>10.322.16</td>\n",
       "      <td>4.1 and up</td>\n",
       "    </tr>\n",
       "    <tr>\n",
       "      <th>1872</th>\n",
       "      <td>Subway Surfers</td>\n",
       "      <td>Game</td>\n",
       "      <td>4.5</td>\n",
       "      <td>27725352</td>\n",
       "      <td>79691776.0</td>\n",
       "      <td>1000000000</td>\n",
       "      <td>Free</td>\n",
       "      <td>0.0</td>\n",
       "      <td>Everyone 10+</td>\n",
       "      <td>Arcade</td>\n",
       "      <td>July 12, 2018</td>\n",
       "      <td>1.90.0</td>\n",
       "      <td>4.1 and up</td>\n",
       "    </tr>\n",
       "    <tr>\n",
       "      <th>1878</th>\n",
       "      <td>Clash Royale</td>\n",
       "      <td>Game</td>\n",
       "      <td>4.6</td>\n",
       "      <td>23136735</td>\n",
       "      <td>101711872.0</td>\n",
       "      <td>100000000</td>\n",
       "      <td>Free</td>\n",
       "      <td>0.0</td>\n",
       "      <td>Everyone 10+</td>\n",
       "      <td>Strategy</td>\n",
       "      <td>June 27, 2018</td>\n",
       "      <td>2.3.2</td>\n",
       "      <td>4.1 and up</td>\n",
       "    </tr>\n",
       "    <tr>\n",
       "      <th>1869</th>\n",
       "      <td>Candy Crush Saga</td>\n",
       "      <td>Game</td>\n",
       "      <td>4.4</td>\n",
       "      <td>22430188</td>\n",
       "      <td>77594624.0</td>\n",
       "      <td>500000000</td>\n",
       "      <td>Free</td>\n",
       "      <td>0.0</td>\n",
       "      <td>Everyone</td>\n",
       "      <td>Casual</td>\n",
       "      <td>July 5, 2018</td>\n",
       "      <td>1.129.0.2</td>\n",
       "      <td>4.1 and up</td>\n",
       "    </tr>\n",
       "    <tr>\n",
       "      <th>1908</th>\n",
       "      <td>My Talking Tom</td>\n",
       "      <td>Game</td>\n",
       "      <td>4.5</td>\n",
       "      <td>14892469</td>\n",
       "      <td>21408503.5</td>\n",
       "      <td>500000000</td>\n",
       "      <td>Free</td>\n",
       "      <td>0.0</td>\n",
       "      <td>Everyone</td>\n",
       "      <td>Casual</td>\n",
       "      <td>July 19, 2018</td>\n",
       "      <td>4.8.0.132</td>\n",
       "      <td>4.1 and up</td>\n",
       "    </tr>\n",
       "  </tbody>\n",
       "</table>\n",
       "</div>"
      ],
      "text/plain": [
       "                   App Category  Rating   Reviews         Size    Installs  \\\n",
       "1879    Clash of Clans     Game     4.6  44893888  102760448.0   100000000   \n",
       "1872    Subway Surfers     Game     4.5  27725352   79691776.0  1000000000   \n",
       "1878      Clash Royale     Game     4.6  23136735  101711872.0   100000000   \n",
       "1869  Candy Crush Saga     Game     4.4  22430188   77594624.0   500000000   \n",
       "1908    My Talking Tom     Game     4.5  14892469   21408503.5   500000000   \n",
       "\n",
       "      Type  Price Content Rating    Genres   Last Updated Current Ver  \\\n",
       "1879  Free    0.0   Everyone 10+  Strategy  July 15, 2018   10.322.16   \n",
       "1872  Free    0.0   Everyone 10+    Arcade  July 12, 2018      1.90.0   \n",
       "1878  Free    0.0   Everyone 10+  Strategy  June 27, 2018       2.3.2   \n",
       "1869  Free    0.0       Everyone    Casual   July 5, 2018   1.129.0.2   \n",
       "1908  Free    0.0       Everyone    Casual  July 19, 2018   4.8.0.132   \n",
       "\n",
       "     Android Ver  \n",
       "1879  4.1 and up  \n",
       "1872  4.1 and up  \n",
       "1878  4.1 and up  \n",
       "1869  4.1 and up  \n",
       "1908  4.1 and up  "
      ]
     },
     "execution_count": 66,
     "metadata": {},
     "output_type": "execute_result"
    }
   ],
   "source": [
    "df.loc[(df['Category']=='Game') & (df['Type']=='Free')].sort_values(by='Reviews',ascending = False).head()"
   ]
  },
  {
   "cell_type": "markdown",
   "id": "d1b927fe-72d8-4f61-8e01-20071155d889",
   "metadata": {},
   "source": [
    "#### Ans: Clash of Clans"
   ]
  },
  {
   "cell_type": "markdown",
   "id": "7734742f-2723-40a1-b2de-123d8aa083c6",
   "metadata": {},
   "source": [
    "## How many Tb (tebibytes) were transferred (overall) for the most installed Lifestyle app"
   ]
  },
  {
   "cell_type": "code",
   "execution_count": 74,
   "id": "349c8cc4-ad8a-4a45-9d67-169c7082ffe4",
   "metadata": {},
   "outputs": [
    {
     "data": {
      "text/html": [
       "<div>\n",
       "<style scoped>\n",
       "    .dataframe tbody tr th:only-of-type {\n",
       "        vertical-align: middle;\n",
       "    }\n",
       "\n",
       "    .dataframe tbody tr th {\n",
       "        vertical-align: top;\n",
       "    }\n",
       "\n",
       "    .dataframe thead th {\n",
       "        text-align: right;\n",
       "    }\n",
       "</style>\n",
       "<table border=\"1\" class=\"dataframe\">\n",
       "  <thead>\n",
       "    <tr style=\"text-align: right;\">\n",
       "      <th></th>\n",
       "      <th>App</th>\n",
       "      <th>Category</th>\n",
       "      <th>Rating</th>\n",
       "      <th>Reviews</th>\n",
       "      <th>Size</th>\n",
       "      <th>Installs</th>\n",
       "      <th>Type</th>\n",
       "      <th>Price</th>\n",
       "      <th>Content Rating</th>\n",
       "      <th>Genres</th>\n",
       "      <th>Last Updated</th>\n",
       "      <th>Current Ver</th>\n",
       "      <th>Android Ver</th>\n",
       "      <th>TB</th>\n",
       "    </tr>\n",
       "  </thead>\n",
       "  <tbody>\n",
       "    <tr>\n",
       "      <th>4587</th>\n",
       "      <td>Tinder</td>\n",
       "      <td>Lifestyle</td>\n",
       "      <td>4.0</td>\n",
       "      <td>2789775</td>\n",
       "      <td>71303168.0</td>\n",
       "      <td>100000000</td>\n",
       "      <td>Free</td>\n",
       "      <td>0.0</td>\n",
       "      <td>Mature 17+</td>\n",
       "      <td>Lifestyle</td>\n",
       "      <td>August 2, 2018</td>\n",
       "      <td>9.5.0</td>\n",
       "      <td>4.4 and up</td>\n",
       "      <td>6485.0</td>\n",
       "    </tr>\n",
       "  </tbody>\n",
       "</table>\n",
       "</div>"
      ],
      "text/plain": [
       "         App   Category  Rating  Reviews        Size   Installs  Type  Price  \\\n",
       "4587  Tinder  Lifestyle     4.0  2789775  71303168.0  100000000  Free    0.0   \n",
       "\n",
       "     Content Rating     Genres    Last Updated Current Ver Android Ver      TB  \n",
       "4587     Mature 17+  Lifestyle  August 2, 2018       9.5.0  4.4 and up  6485.0  "
      ]
     },
     "execution_count": 74,
     "metadata": {},
     "output_type": "execute_result"
    }
   ],
   "source": [
    "df.loc[df['Category'] == 'Lifestyle'].sort_values(by='Installs', ascending=False).assign(TB=lambda x: (x['Size'] * x['Installs']) / (1024 ** 4)).round({'TB': 1}).head(1)\n"
   ]
  },
  {
   "cell_type": "markdown",
   "id": "1d6cfe27-4620-466d-9e5e-64fdb965c064",
   "metadata": {},
   "source": [
    "#### Ans: 6485.0 TB"
   ]
  },
  {
   "cell_type": "markdown",
   "id": "3ddbb44f-d3a3-4ada-a243-685693fa4d88",
   "metadata": {},
   "source": [
    "# Google Play Store Data Cleaning and Analysis\n",
    "\n",
    "This project focuses on cleaning and analyzing data from the Google Play Store dataset using Python and pandas. The dataset contains information about various mobile applications available on the Google Play Store, such as app names, categories, ratings, reviews, sizes, installs, prices, and more.\n",
    "\n",
    "## Dataset Description\n",
    "\n",
    "The dataset (`googleplaystore.csv`) includes the following columns:\n",
    "\n",
    "1. App: Name of the application\n",
    "2. Category: Category to which the app belongs\n",
    "3. Rating: Rating of the app\n",
    "4. Reviews: Number of reviews for the app\n",
    "5. Size: Size of the app\n",
    "6. Installs: Number of installs for the app\n",
    "7. Type: Free or Paid\n",
    "8. Price: Price of the app\n",
    "9. Content Rating: Content rating of the app\n",
    "10. Genres: Genres to which the app belongs\n",
    "11. Last Updated: Date when the app was last updated\n",
    "12. Current Ver: Current version of the app\n",
    "13. Android Ver: Required Android version\n",
    "\n",
    "## Project Overview\n",
    "\n",
    "The project involves the following steps:\n",
    "\n",
    "1. Data Cleaning:\n",
    "   - Handling missing values\n",
    "   - Cleaning column datatypes\n",
    "   - Converting categorical data to the appropriate format\n",
    "   - Removing duplicates\n",
    "   - Cleaning and converting numerical columns\n",
    "   - Analyzing and fixing invalid or inconsistent data\n",
    "\n",
    "2. Data Analysis:\n",
    "   - Analyzing the most reviewed app\n",
    "   - Identifying the category with the highest number of apps\n",
    "   - Finding the most expensive app and game\n",
    "   - Determining the most installed finance app\n",
    "   - Analyzing teen games with the most reviews\n",
    "   - Finding the free game with the most reviews\n",
    "   - Calculating the total transfer in tebibytes (TB) for the most installed lifestyle app\n",
    "\n",
    "## Libraries\n",
    "\n",
    "- pandas\n",
    "- numpy\n",
    "- seaborn\n",
    "\n",
    "\n"
   ]
  }
 ],
 "metadata": {
  "kernelspec": {
   "display_name": "Python 3 (ipykernel)",
   "language": "python",
   "name": "python3"
  },
  "language_info": {
   "codemirror_mode": {
    "name": "ipython",
    "version": 3
   },
   "file_extension": ".py",
   "mimetype": "text/x-python",
   "name": "python",
   "nbconvert_exporter": "python",
   "pygments_lexer": "ipython3",
   "version": "3.10.13"
  }
 },
 "nbformat": 4,
 "nbformat_minor": 5
}
